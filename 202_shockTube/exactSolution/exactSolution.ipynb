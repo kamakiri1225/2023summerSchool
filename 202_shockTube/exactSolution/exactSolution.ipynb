{
 "cells": [
  {
   "cell_type": "markdown",
   "metadata": {},
   "source": [
    "## 衝撃波菅の厳密解\n",
    "\n",
    "<img src=\"img/exact.png\">\n",
    "\n",
    "こちらが厳密解を解くためのプログラム部分です。\n",
    "\n",
    "#### ■ 領域1：$ x>x_{0}+V_{s}t$\n",
    "$\\rho_{1}=\\rho_{R}$, $p_{1}=p_{R}$, $u_{1}=u_{R}$\n",
    "\n",
    "衝撃波速度$ V_{s}=u_{1}+c_{1}\\sqrt{\\frac{\\gamma + 1}{2\\gamma}\\big(\\frac{p_{2}}{p_{1}-1}+1\\big)}$\n",
    "\n",
    "#### ■ 領域2：$ x_{0}+V_{c}t < x \\leq x_{0}+V_{s}t$\n",
    "\n",
    "衝撃波の前後でランキン・ユゴニオの関係式より、$\\frac{\\rho_{2}}{\\rho_{R}}=\\frac{\\frac{p_{2}}{p_{R}}+\\frac{\\gamma-1}{\\gamma+1}}{\\frac{\\gamma-1}{\\gamma+1}\\frac{p_{2}}{p_{R}}+1}$\n",
    "\n",
    "$u_{2}=u_{R}+\\frac{c_{R}\\big(\\frac{p_{2}}{p_{R}}-1\\big)}{\\sqrt{\\frac{\\gamma}{2}\\big(\\gamma-1+\\frac{p_{2}}{p_{R}}(\\gamma+1)\\big)}}$\n",
    "\n",
    "#### ■ 領域3：$x_{0}+V_{rt}t < x \\leq x_{0}+V_{c}t$ $(V_{rt}=u_{2}-\\frac{\\gamma-1}{2}(u_{L}-u_{2})+c_{L})=u_{3}-c_{3}$\n",
    "\n",
    "等エントロピー過程よりポアソンの式を使って、$p_{3}\\rho_{3}^{\\gamma}=p_{L}\\rho_{L}^{\\gamma}$,流速と圧力は変化がないので$u_{3}=u_{2}=V_{c}$, $p_{3}=p_{2}$\n",
    "$c_{3}=\\sqrt{\\frac{\\gamma p_{3}}{\\rho_{3}}}=\\frac{\\gamma-1}{2}(u_{L}-u_{3})+c_{L}$\n",
    "\n",
    "#### ■ 領域4：$x_{0}+V_{rh}t < x \\leq x_{0}+V_{rt}t$\n",
    "\n",
    "流速$u_{4}=\\frac{2}{\\gamma+1}\\big(\\frac{x-x_{0}}{t}+c_{L}+\\frac{\\gamma-1}{2}u_{L}\\big)$\n",
    "\n",
    "音速$c_{4}=c_{L}-\\frac{\\gamma-1}{2}(u_{4}-u_{L})$\n",
    "\n",
    "等エントロピー過程よりポアソンの式を使って、$p_{4}\\rho_{4}^{\\gamma}=p_{L}\\rho_{L}^{\\gamma}$ or $p_{4}c_{4}^{\\frac{2\\gamma}{\\gamma-1}}=p_{L}c_{L}^{\\frac{2\\gamma}{\\gamma-1}}$\n",
    "\n",
    "#### ■ 領域5：$x\\leq x_{0}+V_{rh}t$\n",
    "\n",
    "$p_{5}=p_{L}$, $u_{5}=u_{L}$, $\\rho_{5}=\\rho_{L}$\n",
    "\n",
    "\n",
    "## 計算手順\n",
    "\n",
    "### 1. $p_{21}=\\frac{p_{2}}{p_{1}}$を求める\n",
    "まずは$\\frac{p_{2}}{p_{1}}=p_{21}$を求めるための反復計算を行っています。\n",
    "\\begin{align*}\n",
    "\\frac{p_{2}}{p_{1}}=\\frac{p_{R}}{p_{L}}\\bigg(\\,\\,\\,1+ \\frac{\\gamma-1}{2c_{L}}\\bigg(u_{L}-u_{R}-\\frac{c_{R}(\\frac{p_{2}}{p_{1}}-1)}{\\gamma\\sqrt{\\frac{\\gamma+1}{2\\gamma}}(\\frac{p_{2}}{p_{1}}-1)+1}\\bigg)\\,\\,\\,\\bigg)^{\\frac{2\\gamma}{\\gamma-1}}\n",
    "\\end{align*}は\n",
    "\n",
    "```python\n",
    "# p21を求めるための関数\n",
    "def F(p21, p1, p5, rho1, rho5, u1, u5):\n",
    "    # c1, c5, w\n",
    "    c1 = np.sqrt(gamma*p1/rho1)\n",
    "    c5 = np.sqrt(gamma*p5/rho5)\n",
    "    ....\n",
    "\n",
    "```\n",
    "\n",
    "の関数から求めています。\n",
    "\n",
    "### 2. $p_{21}$の結果から各領域2~5の物理量を求める\n",
    "\n",
    "各領域2~5の物理量は、\n",
    "\n",
    "```python\n",
    "# 厳密解の時間発展\n",
    "def exact_solution(t):\n",
    "    #Secant反復法により、衝撃波前後の圧力ジャンプを求める\n",
    "    p21 = p1 / p5\n",
    "    pm = p21 + 0.01\n",
    "```\n",
    "\n",
    "の関数から求めています。\n",
    "\n",
    "#### (補足)理想気体の状態方程式（熱力学）\n",
    "理想気体の状態方程式から、温度と密度と圧力は$p=\\rho R_{MW} T$ \n",
    "\n",
    "ただし、$R_{MW}$は気体定数$R=8.31$[J/mol K]と空気のモル質量$MW=28.9$[g/mol]から、$R_{MW}=\\frac{R}{MW}$[J/kg K]で計算される気体の種類による定数値であることに注意する必要があります。\n",
    "\n",
    "OpenFOAMのrhoCentralFoamのshock tubeのチュートリアルでは「constant/thermophysicalProperties」で定圧比熱$C_{p}=1005$[J/kg K]とモル質量$MW=28.9$[g/mol]が与えれています。\n",
    "\n",
    "ここから、$R_{MW}=\\frac{R}{MW}=287.5$[J/kg K]と求まります。\n",
    "\n",
    "また、マイヤーの関係式$C_{p} = C_{v} + R_{MW}$を使って比熱比$\\gamma = \\frac{C_{p}}{C_{v}} = \\frac{C_{p}}{C_{v} - R_{MW}} = 1.4$と求めることができます。\n",
    "\n",
    "※比熱や気体定数の単位を[J/kg K]にするか[J/mol K]にするかによって値が変わるので計算の際には注意が必要です。\n",
    "\n",
    "OpenFOAMの定圧比熱$C_{p}$は単位[J/kg K]として与えられているので、ここでは[J/kg K]をベースに計算しました。\n",
    "\n",
    "理論計算式において、計算を楽にするために比熱比$\\gamma = 1.4$を使います。"
   ]
  },
  {
   "cell_type": "code",
   "execution_count": 32,
   "metadata": {},
   "outputs": [
    {
     "name": "stdout",
     "output_type": "stream",
     "text": [
      "初期状態 rho1=0.1249556012019438\n",
      "初期状態 rho5=0.9996462441060816\n"
     ]
    }
   ],
   "source": [
    "import numpy as np\n",
    "import pandas as pd\n",
    "import numpy as np\n",
    "import matplotlib.pyplot as plt\n",
    " \n",
    " \n",
    "gamma = 1.4              # 比熱比\n",
    "XL = -5.0                # x最小値\n",
    "XR = 5.0                 # x最大値\n",
    "tstop = 0.007            # 計算終了時間\n",
    "dt = 1e-3                # 時間刻み幅\n",
    "t = 0              \n",
    "i_max = 100\n",
    "dx = (XR - XL) / i_max   # 空間刻み幅\n",
    "x = np.zeros(i_max)\n",
    "rhoe = np.zeros(i_max)\n",
    "pe = np.zeros(i_max)\n",
    "ue = np.zeros(i_max)\n",
    "tempe = np.zeros(i_max)\n",
    "\n",
    "x0 = 0 #初期区切り位置\n",
    "R = 8.31446262  #[mol/J K]\n",
    "MW = 28.96/1000 #[kg/mil]\n",
    "Rmw = R/MW\n",
    "\n",
    "# 初期状態1\n",
    "p1 = 10000#0.1\n",
    "T1 = 278.746\n",
    "rho1 = p1/(Rmw*T1)#0.12\n",
    "u1 = 0.0\n",
    "c1 = np.sqrt(gamma * p1 / rho1)\n",
    "if t == 0: print(f\"初期状態 rho1={rho1}\")\n",
    "\n",
    "# 初期状態5\n",
    "T5 = 348.432\n",
    "p5 = 100000#1.0\n",
    "rho5 = p5/(Rmw*T5)#1.0\n",
    "u5 = 0.0\n",
    "c5 = np.sqrt(gamma * p5 / rho5)\n",
    "if t == 0: print(f\"初期状態 rho5={rho5}\")\n",
    " \n",
    "for i in range(i_max):\n",
    "    x[i] = XL + dx*i       # セル境界の座標\n",
    "\n",
    "    # 高圧、高温\n",
    "    if x[i] < x0: \n",
    "        rhoe[i] = rho5\n",
    "        pe[i] = p5\n",
    "        ue[i] = u5\n",
    "        tempe[i] = pe[i]/(rhoe[i]*Rmw)\n",
    "        \n",
    "    # 低圧、低温\n",
    "    else:\n",
    "        rhoe[i] = rho1\n",
    "        pe[i] = p1\n",
    "        ue[i] = u1\n",
    "\n",
    "#温度の計算    \n",
    "tempe[i] = pe[i]/(rhoe[i]*Rmw)"
   ]
  },
  {
   "cell_type": "markdown",
   "metadata": {},
   "source": [
    "続いて厳密解を解くための関数を用意します。"
   ]
  },
  {
   "cell_type": "code",
   "execution_count": 8,
   "metadata": {},
   "outputs": [],
   "source": [
    "# p21を求めるための関数\n",
    "def F(p21, p1, p5, rho1, rho5, u1, u5):\n",
    "    # c1, c5, w\n",
    "    c1 = np.sqrt(gamma*p1/rho1)\n",
    "    c5 = np.sqrt(gamma*p5/rho5)\n",
    " \n",
    "    w = p5/ p1*(\n",
    "        1.0 + (gamma - 1)/ c5 / 2.0\n",
    "        * (u5 - u1 - c1 / gamma * (p21 - 1.0)\n",
    "        * (\n",
    "                (gamma + 1.0) / (2.0*gamma) * (p21 - 1.0) + 1.0\n",
    "            )**(-1.0 / 2.0)\n",
    "                \n",
    "        )\n",
    "        \n",
    "        )**(2 * gamma / (gamma - 1))  - p21\n",
    "    return w\n",
    "\n",
    "# 厳密解の時間発展\n",
    "def exact_solution(t):\n",
    "    #Secant反復法により、衝撃波前後の圧力ジャンプを求める\n",
    "    p21 = p1 / p5\n",
    "    pm = p21 + 0.01\n",
    "    pmm = pm + 0.01\n",
    "    fmm = F(pm, p1, p5, rho1, rho5, u1, u5)\n",
    "    itmax = 20                                    # 反復回数の上限\n",
    "    it = 0\n",
    "    eps = 1.e-5                                   # 収束判定条件\n",
    "    error = 1\n",
    "\n",
    "    while error > eps:\n",
    "        it += 1\n",
    "        fm = F(p21, p1, p5, rho1, rho5, u1, u5)\n",
    "        df = fm - fmm\n",
    "        p21 = p21 - (p21 - pmm) * fm / (df + 1.0e-8 * df / (abs(df) + 1.0e-8))\n",
    "        error = abs(p21 - pm) / pm\n",
    "        pmm = pm\n",
    "        pm = p21\n",
    "        fmm = fm\n",
    "        #print(f\"反復回数={it},{p21}\");\n",
    "\n",
    "        if (it >= itmax):\n",
    "            break\n",
    "    \n",
    "    #print(f\"p21={p21}\")\n",
    "\n",
    "    #領域2の物理量を計算する\n",
    "    rho2 = rho1 * (p21 + (gamma - 1) / (gamma + 1))/((gamma - 1) * p21 / (gamma + 1) + 1)\n",
    "    u2 = u1 + c1 * np.sqrt(2.0 / gamma) * (p21 - 1) /np.sqrt(gamma - 1 + p21 * (gamma + 1))\n",
    "    p2 = p21 * p1\n",
    "    #print(f\"rho2={rho2},u2={u2},p2={p2}\")\n",
    "\n",
    "    #領域3の物理量を計算する\n",
    "    u3 = u2\n",
    "    p3 = p2\n",
    "    rho3 = rho5 * pow(p3 / p5, 1.0 / gamma)\n",
    "    c3 = np.sqrt(gamma * p3 / rho3)\n",
    "    #print(f\"rho3={rho3},u3={u3},p3={p3}\")\n",
    "\n",
    "    # 各波の速度を計算する\n",
    "    Vs = u1 + c1 * np.sqrt((gamma + 1) / (2. * gamma) * (p21 - 1) + 1) # 衝撃波\n",
    "    Vc = u3                                          # 接触不連続\n",
    "    Vrt = u3 - c3                                   # 膨張波末端の速度\n",
    "    Vrh = u5 - c5                                   # 膨張波先端の速度\n",
    "    #print(f\"Vs={Vs},Vc={Vc},Vrt={Vrt},,Vrh={Vrh}\")\n",
    "#\n",
    "    # t時刻における波の位置を計算する\n",
    "    xs = x0 + Vs * t                                 # 衝撃波\n",
    "    xc = x0 + Vc * t                                 # 接触不連続\n",
    "    xrt = x0 + Vrt * t                               # 膨張波末端の速度\n",
    "    xrh = x0 + Vrh * t                               # 膨張波先端の速度\n",
    "    #print(f\"xs={xs},xc={xc},xrt={xrt},xrh={xrh}\")\n",
    "\n",
    "    # 計算格子に解を与える\n",
    "    for i in range(i_max):\n",
    "        # 領域5\n",
    "        if x[i] < xrh:\n",
    "            rhoe[i] = rho5\n",
    "            pe[i] = p5\n",
    "            ue[i] = u5\n",
    "            \n",
    "        # 領域4\n",
    "        elif x[i] <= xrt:\n",
    "            ue[i] = 2. / (gamma + 1) * (0.5 * (gamma - 1) * u5 + c5 + (x[i] - x0) / t)\n",
    "            c4 = c5 - 0.5 * (gamma - 1) * (ue[i] - u5)\n",
    "            pe[i] = p5 * pow(c4 / c5, (2. * gamma / (gamma - 1)))\n",
    "            rhoe[i] = rho5 * pow(pe[i] / p5, 1.0 / gamma)\n",
    "        \n",
    "\n",
    "        # 領域3\n",
    "        elif (x[i] < xc):\n",
    "            rhoe[i] = rho3\n",
    "            pe[i] = p3\n",
    "            ue[i] = u3\n",
    "\n",
    "        # 領域2\n",
    "        elif (x[i] < xs):\n",
    "            rhoe[i] = rho2\n",
    "            pe[i] = p2\n",
    "            ue[i] = u2\n",
    "        \n",
    "        # 領域1\n",
    "        else:\n",
    "            rhoe[i] = rho1\n",
    "            pe[i] = p1\n",
    "            ue[i] = u1\n",
    "    \n",
    "    # 温度の計算\n",
    "    tempe = pe/(rhoe*Rmw)\n",
    "\n",
    "    return rhoe, pe, ue, tempe"
   ]
  },
  {
   "cell_type": "markdown",
   "metadata": {},
   "source": [
    "以上のプログラムを使って各時刻の物理量を求めます。"
   ]
  },
  {
   "cell_type": "code",
   "execution_count": 9,
   "metadata": {},
   "outputs": [],
   "source": [
    "# 初期化\n",
    "rhoet = [rhoe]\n",
    "pet = [pe]\n",
    "uet = [ue]\n",
    "tempet = [tempe]\n",
    "\n",
    "t = 0\n",
    "while t <= tstop:\n",
    "    t = t + dt\n",
    "    \n",
    "    rhoe = np.zeros(i_max)\n",
    "    pe = np.zeros(i_max)\n",
    "    ue = np.zeros(i_max)\n",
    "    \n",
    "    rhoe, pe, ue, tempe = exact_solution(t)\n",
    "    rhoet.append(rhoe)\n",
    "    pet.append(pe)\n",
    "    uet.append(ue)\n",
    "    tempet.append(tempe)"
   ]
  },
  {
   "cell_type": "markdown",
   "metadata": {},
   "source": [
    "密度のグラフを作成"
   ]
  },
  {
   "cell_type": "code",
   "execution_count": 27,
   "metadata": {},
   "outputs": [
    {
     "data": {
      "image/png": "[encoded data removed]",
      "text/plain": [
       "<Figure size 432x288 with 1 Axes>"
      ]
     },
     "metadata": {
      "needs_background": "light"
     },
     "output_type": "display_data"
    }
   ],
   "source": [
    "import numpy as np\n",
    "import matplotlib.pyplot as plt\n",
    "import matplotlib.animation as animation\n",
    "\n",
    "fig = plt.figure()\n",
    "x = np.arange(XL, XR, dx)\n",
    "\n",
    "# アニメーション\n",
    "ims_rho = []\n",
    "it = 0\n",
    "t = 0\n",
    "\n",
    "while t <= tstop:\n",
    "    im_rho = plt.plot(x, rhoet[it], \"b\")\n",
    "    ims_rho.append(im_rho)\n",
    "    plt.xlabel(\"x[m]\")\n",
    "    plt.ylabel(\"rho[kg/m3]\")\n",
    "    t = t + dt\n",
    "    it += 1\n",
    "\n",
    "ani_rho = animation.ArtistAnimation(fig, ims_rho, interval=1)\n",
    "ani_rho.save('rho.gif', writer='pillow')"
   ]
  },
  {
   "cell_type": "markdown",
   "metadata": {},
   "source": [
    "流速のグラフを作成"
   ]
  },
  {
   "cell_type": "code",
   "execution_count": 28,
   "metadata": {},
   "outputs": [
    {
     "data": {
      "image/png": "[encoded data removed]",
      "text/plain": [
       "<Figure size 432x288 with 1 Axes>"
      ]
     },
     "metadata": {
      "needs_background": "light"
     },
     "output_type": "display_data"
    }
   ],
   "source": [
    "import numpy as np\n",
    "import matplotlib.pyplot as plt\n",
    "import matplotlib.animation as animation\n",
    "\n",
    "fig = plt.figure()\n",
    "x = np.arange(XL, XR, dx)\n",
    "\n",
    "# アニメーション\n",
    "ims_u = []\n",
    "it = 0\n",
    "t = 0\n",
    "while t <= tstop:\n",
    "    im_u = plt.plot(x, uet[it], \"b\")\n",
    "    ims_u.append(im_u)\n",
    "    \n",
    "    plt.xlabel(\"x[m]\")\n",
    "    plt.ylabel(\"u[m/s]\")\n",
    "    \n",
    "    t = t + dt\n",
    "    it += 1\n",
    "\n",
    "ani_u = animation.ArtistAnimation(fig, ims_u, interval=1)\n",
    "ani_u.save('u.gif', writer='pillow')"
   ]
  },
  {
   "cell_type": "markdown",
   "metadata": {},
   "source": [
    "圧力のグラフを作成"
   ]
  },
  {
   "cell_type": "code",
   "execution_count": 29,
   "metadata": {},
   "outputs": [
    {
     "data": {
      "image/png": "[encoded data removed]",
      "text/plain": [
       "<Figure size 504x288 with 1 Axes>"
      ]
     },
     "metadata": {
      "needs_background": "light"
     },
     "output_type": "display_data"
    }
   ],
   "source": [
    "import numpy as np\n",
    "import matplotlib.pyplot as plt\n",
    "import matplotlib.animation as animation\n",
    "\n",
    "fig = plt.figure(figsize=(7,4))\n",
    "x = np.arange(XL, XR, dx)\n",
    "\n",
    "# アニメーション\n",
    "ims_p = []\n",
    "it = 0\n",
    "t = 0\n",
    "while t <= tstop:\n",
    "    im_p = plt.plot(x, pet[it], \"b\")\n",
    "    plt.xlabel(\"x[m]\")\n",
    "    plt.ylabel(\"pressure[Pa]\")\n",
    "    ims_p.append(im_p)\n",
    "    t = t + dt\n",
    "    it += 1\n",
    "\n",
    "ani_p = animation.ArtistAnimation(fig, ims_p, interval=1)\n",
    "ani_p.save('p.gif', writer='pillow')"
   ]
  },
  {
   "cell_type": "markdown",
   "metadata": {},
   "source": [
    "温度のグラフを作成"
   ]
  },
  {
   "cell_type": "code",
   "execution_count": 30,
   "metadata": {},
   "outputs": [
    {
     "data": {
      "image/png": "[encoded data removed]",
      "text/plain": [
       "<Figure size 432x288 with 1 Axes>"
      ]
     },
     "metadata": {
      "needs_background": "light"
     },
     "output_type": "display_data"
    }
   ],
   "source": [
    "import numpy as np\n",
    "import matplotlib.pyplot as plt\n",
    "import matplotlib.animation as animation\n",
    "\n",
    "fig = plt.figure()\n",
    "x = np.arange(XL, XR, dx)\n",
    "\n",
    "# アニメーション\n",
    "ims_t = []\n",
    "it = 0\n",
    "t = 0\n",
    "while t <= tstop:\n",
    "    im_t = plt.plot(x, tempet[it], \"b\")\n",
    "    plt.xlabel(\"x[m]\")\n",
    "    plt.ylabel(\"temperature[K]\")\n",
    "    ims_t.append(im_t)\n",
    "    t = t + dt    \n",
    "    it += 1\n",
    "\n",
    "ani_t = animation.ArtistAnimation(fig, ims_t, interval=1)\n",
    "ani_t.save('tempe.gif', writer='pillow')"
   ]
  },
  {
   "cell_type": "markdown",
   "metadata": {},
   "source": [
    "以上の結果をOpenFOAMと比較を行うためにcsvファイルとして出力しておく"
   ]
  },
  {
   "cell_type": "code",
   "execution_count": 14,
   "metadata": {},
   "outputs": [],
   "source": [
    "it = 0\n",
    "t = 0\n",
    "\n",
    "cols=[\"#x[m]\", \"temp[K]\", \"p[Pa]\", \"rho[kg/m3]\", \"u[m/s]\"]\n",
    "while t <= tstop:\n",
    "    time = round(t,4)\n",
    "    if time>0 and time%0.0010 == 0:\n",
    "        df = pd.DataFrame([x ,tempet[it],  pet[it], rhoet[it], uet[it],]).T\n",
    "        df.columns = cols\n",
    "        df.to_csv(f\"time{round(t,3)}.csv\", index=False, sep='\\t')\n",
    "    t = t + dt\n",
    "    it += 1"
   ]
  },
  {
   "cell_type": "markdown",
   "metadata": {},
   "source": [
    "# OpenFOAMとの比較"
   ]
  },
  {
   "cell_type": "code",
   "execution_count": 31,
   "metadata": {},
   "outputs": [
    {
     "data": {
      "image/png": "[encoded data removed]",
      "text/plain": [
       "<Figure size 576x432 with 1 Axes>"
      ]
     },
     "metadata": {
      "needs_background": "light"
     },
     "output_type": "display_data"
    }
   ],
   "source": [
    "import numpy as np\n",
    "import matplotlib.pyplot as plt\n",
    "import matplotlib.animation as animation\n",
    "import pandas as pd\n",
    "\n",
    "fig = plt.figure(figsize=(8,6))\n",
    "x = np.arange(XL, XR, dx)\n",
    "\n",
    "# OpenFOAMのデータフレーム作成関数\n",
    "def df_cae_func(time_):\n",
    "    datafilename = \"x_sec_T_mag(U)_p_rho.xy\"\n",
    "    filenamepath = f\"../shockTube/postProcessing/sampleDict/{time_}/{datafilename}\"\n",
    "    cols = [\"x[m]\", \"T[K]\", \"U[m/s]\", \"p[Pa]\", \"rho[kg/m3]\"]\n",
    "    df_cae = pd.read_table(filenamepath, names=cols)\n",
    "    return df_cae\n",
    "\n",
    "# アニメーション\n",
    "ims_rho_exp_cae = []\n",
    "it = 0\n",
    "t = 0\n",
    "df_cae = pd.DataFrame()\n",
    "while t <= tstop:\n",
    "    time = round(t,4)\n",
    "    if time>0 and time%0.0010 == 0:\n",
    "        if time == 0.0070:\n",
    "             # 理論解    \n",
    "            im_rho = plt.plot(x, rhoet[it], color=\"black\",label=\"Theory\")\n",
    "\n",
    "            # OpenFOAM\n",
    "            df_cae = df_cae_func(time)\n",
    "            im_rho_cae = plt.plot(df_cae[\"x[m]\"].values, df_cae[\"rho[kg/m3]\"].values, color=\"red\", label=\"OpenFOAM\")\n",
    "        else: \n",
    "            # 理論解    \n",
    "            im_rho = plt.plot(x, rhoet[it], color=\"black\")#, label=\"Theory\")\n",
    "\n",
    "            # OpenFOAM\n",
    "            df_cae = df_cae_func(time)\n",
    "            im_rho_cae = plt.plot(df_cae[\"x[m]\"].values, df_cae[\"rho[kg/m3]\"].values, color=\"red\")#, label=\"OpenFOAM\")\n",
    "        \n",
    "        ims_rho_exp_cae.append(im_rho + im_rho_cae)\n",
    "\n",
    "    t = t + dt\n",
    "    it += 1\n",
    "\n",
    "plt.xlabel(\"x[m]\", fontsize=12)\n",
    "plt.ylabel(\"rho[kg/m3]\", fontsize=12)\n",
    "plt.legend()\n",
    "ani_rho = animation.ArtistAnimation(fig, ims_rho_exp_cae, interval=1)#, repeat_delay=1000)\n",
    "ani_rho.save('rho_exp_cae.gif', writer='pillow')"
   ]
  },
  {
   "cell_type": "code",
   "execution_count": null,
   "metadata": {},
   "outputs": [],
   "source": []
  },
  {
   "cell_type": "code",
   "execution_count": null,
   "metadata": {},
   "outputs": [],
   "source": []
  }
 ],
 "metadata": {
  "kernelspec": {
   "display_name": "Python 3 (ipykernel)",
   "language": "python",
   "name": "python3"
  },
  "language_info": {
   "codemirror_mode": {
    "name": "ipython",
    "version": 3
   },
   "file_extension": ".py",
   "mimetype": "text/x-python",
   "name": "python",
   "nbconvert_exporter": "python",
   "pygments_lexer": "ipython3",
   "version": "3.10.12"
  }
 },
 "nbformat": 4,
 "nbformat_minor": 4
}
