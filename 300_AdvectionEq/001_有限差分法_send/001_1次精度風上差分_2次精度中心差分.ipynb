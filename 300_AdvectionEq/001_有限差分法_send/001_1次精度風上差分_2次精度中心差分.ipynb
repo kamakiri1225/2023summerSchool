{
 "cells": [
  {
   "cell_type": "markdown",
   "id": "blessed-nomination",
   "metadata": {},
   "source": [
    "# 目次\n",
    "\n",
    "1. 移流方程式とは（1週目）\n",
    "  - 移流方程式の一般解について\n",
    "  - 一般解\n",
    "\n",
    "2.　離散化手法（1週目～2週目）\n",
    " - 差分法の理論とPythonプログラム\n",
    "  - 後退差分（1次精度）\n",
    "  - 前進差分（1次精度）\n",
    "  - 中心差分（2次精度）"
   ]
  },
  {
   "cell_type": "markdown",
   "id": "ultimate-peripheral",
   "metadata": {},
   "source": [
    "\n",
    "- [Pythonの学習用の記事](https://takun-physics.net/%e3%83%97%e3%83%ad%e3%82%b0%e3%83%a9%e3%83%9f%e3%83%b3%e3%82%b0%e5%ad%a6%e7%bf%92/)"
   ]
  },
  {
   "cell_type": "markdown",
   "id": "realistic-worse",
   "metadata": {},
   "source": [
    "## 後退差分（1次精度）"
   ]
  },
  {
   "cell_type": "markdown",
   "id": "incoming-listing",
   "metadata": {},
   "source": [
    "コードをひとつずつ実行しながら理解を深めることにします。\n",
    "\n",
    "まずは必要なライブラリをインポートします。\n",
    "\n",
    "\n",
    "- Numpy：数値計算用のライブラリ\n",
    "- Matplotlib：波の形状を2次元プロットして可視化するためのライブラリ"
   ]
  },
  {
   "cell_type": "code",
   "execution_count": 46,
   "id": "ecological-soccer",
   "metadata": {},
   "outputs": [],
   "source": [
    "import numpy as np\n",
    "import matplotlib.pyplot as plt"
   ]
  },
  {
   "cell_type": "markdown",
   "id": "fallen-weapon",
   "metadata": {},
   "source": [
    "実行してエラーがなければ記述に問題はないでしょう。"
   ]
  },
  {
   "cell_type": "markdown",
   "id": "existing-negotiation",
   "metadata": {},
   "source": [
    "次に「初期状態の設定」を行います。\n",
    "\n",
    "数値計算をする際に特に単位は決まっていませんが、流体解析の場合はSI単位系(m-sec-kg)としておくのが良いかと思います。"
   ]
  },
  {
   "cell_type": "markdown",
   "id": "entitled-export",
   "metadata": {},
   "source": [
    "- 時間刻みは0.25[s]\n",
    "- 速度c=1[m/s]\n",
    "- 空間xは「0～10(m)」とし、空間刻みdx=0.1とします。"
   ]
  },
  {
   "cell_type": "code",
   "execution_count": 47,
   "id": "cultural-discussion",
   "metadata": {},
   "outputs": [],
   "source": [
    "''' 条件設定 '''\n",
    "# 時間項の条件\n",
    "dt = 0.1\n",
    "\n",
    "# 空間項の条件\n",
    "dx = 0.1\n",
    "x_min = 0\n",
    "x_max = 10"
   ]
  },
  {
   "cell_type": "markdown",
   "id": "curious-continent",
   "metadata": {},
   "source": [
    "x=[2,5]の範囲をu=1とし、それ以外をu=0にします。"
   ]
  },
  {
   "cell_type": "code",
   "execution_count": 48,
   "id": "informed-shark",
   "metadata": {},
   "outputs": [
    {
     "name": "stdout",
     "output_type": "stream",
     "text": [
      "クーラン数 = 1.0\n"
     ]
    }
   ],
   "source": [
    "x = np.arange(x_min, x_max, dx)     # 1次元計算格子\n",
    "\n",
    "# 初期分布uと輸送速度c\n",
    "u = np.zeros_like(x)\n",
    "u[int(2/dx):int(5/dx)] = 1\n",
    "c = 1\n",
    "# クーラン数の確認\n",
    "co= c * dt / dx\n",
    "\n",
    "print(f'クーラン数 = {co}')"
   ]
  },
  {
   "cell_type": "markdown",
   "id": "established-hayes",
   "metadata": {},
   "source": [
    "今の条件だとクーラン数は1です。\n",
    "\n",
    "初期状態を確認してみましょう。"
   ]
  },
  {
   "cell_type": "code",
   "execution_count": 49,
   "id": "fewer-treasury",
   "metadata": {},
   "outputs": [
    {
     "data": {
      "text/plain": [
       "[<matplotlib.lines.Line2D at 0x7f88d2807c70>]"
      ]
     },
     "execution_count": 49,
     "metadata": {},
     "output_type": "execute_result"
    },
    {
     "data": {
      "image/png": "[encoded data removed]",
      "text/plain": [
       "<Figure size 640x480 with 1 Axes>"
      ]
     },
     "metadata": {},
     "output_type": "display_data"
    }
   ],
   "source": [
    "plt.plot(x,u)"
   ]
  },
  {
   "cell_type": "code",
   "execution_count": 50,
   "id": "given-bearing",
   "metadata": {},
   "outputs": [
    {
     "data": {
      "text/plain": [
       "array([0., 0., 0., 0., 0., 0., 0., 0., 0., 0., 0., 0., 0., 0., 0., 0., 0.,\n",
       "       0., 0., 0., 1., 1., 1., 1., 1., 1., 1., 1., 1., 1., 1., 1., 1., 1.,\n",
       "       1., 1., 1., 1., 1., 1., 1., 1., 1., 1., 1., 1., 1., 1., 1., 1., 0.,\n",
       "       0., 0., 0., 0., 0., 0., 0., 0., 0., 0., 0., 0., 0., 0., 0., 0., 0.,\n",
       "       0., 0., 0., 0., 0., 0., 0., 0., 0., 0., 0., 0., 0., 0., 0., 0., 0.,\n",
       "       0., 0., 0., 0., 0., 0., 0., 0., 0., 0., 0., 0., 0., 0., 0.])"
      ]
     },
     "execution_count": 50,
     "metadata": {},
     "output_type": "execute_result"
    }
   ],
   "source": [
    "u"
   ]
  },
  {
   "cell_type": "markdown",
   "id": "instructional-bangladesh",
   "metadata": {},
   "source": [
    "### 移流方程式を解く\n",
    "\n",
    "un = u.copy()で初期状態をコピーします。\n",
    "```\n",
    "u[j] = un[j] - c * dt / dx * (un[j] - un[j-1])\n",
    "```\n",
    "とすることで、\n",
    "\\begin{align*}\n",
    "u^{n+1}_{j}=u^{n}_{j}-\\frac{c\\Delta t}{\\Delta x}\\big(u^{n}_{j}-u^{n}_{j-1}\\big)\n",
    "\\end{align*}\n",
    "を解いています。"
   ]
  },
  {
   "cell_type": "code",
   "execution_count": 51,
   "id": "perfect-theater",
   "metadata": {},
   "outputs": [
    {
     "name": "stdout",
     "output_type": "stream",
     "text": [
      "Iteration= 0\n",
      "Iteration= 10\n",
      "Iteration= 20\n",
      "Iteration= 30\n"
     ]
    }
   ],
   "source": [
    "step = 40 # 100ステップ計算する\n",
    "\n",
    "''' 輸送速度が正の1次元移流方程式を数値計算する '''\n",
    "for i in range(step):\n",
    "    if i % 10 == 0:\n",
    "        print('Iteration=', i)\n",
    "        \n",
    "    un = u.copy()\n",
    "    for j in range(1, len(x)-1):\n",
    "        # 時間項：前進差分/空間項：風上差分\n",
    "        u[j] = un[j] - c * (dt / dx) * (un[j] - un[j-1])"
   ]
  },
  {
   "cell_type": "markdown",
   "id": "underlying-chester",
   "metadata": {},
   "source": [
    "```python\n",
    "for j in range(1, len(x)-1):\n",
    "```\n",
    "のように、空間の要素を0からではなく1からにしています。\n",
    "\n",
    "これは、数値計算の途中で「u[j-1]」があるため「u[0]」を用意しておかないとエラーが起こってしまうため「u[0]」を初期状態で設定しておいたのです。\n",
    "実際に計算で使っている空間領域は「要素の1～len(x)」だけということになります。\n",
    "\n",
    "※Pythonの配列は基本が[値の参照渡し](https://takun-physics.net/9498/)なので、\n",
    "\n",
    "```python\n",
    "un = u\n",
    "```\n",
    "とするとuが変更すると同時にu0の値も変わってしまします。\n",
    "\n",
    "参考記事：[【第3回Python流体の数値計算】「参照渡し」と「値渡し」の違いを理解する。](https://takun-physics.net/9498/)\n",
    "\n",
    "```python\n",
    "un = u.copy()\n",
    "```\n",
    "とすることで、u0とuは別ものの変数となるので値が勝手に上書きされずに済みます。\n",
    "\n",
    "以上の数値計算を行っても何の結果も出ないと思いますので最終状態の「u」をMatplotlibで出力してみましょう。"
   ]
  },
  {
   "cell_type": "code",
   "execution_count": 52,
   "id": "modified-seafood",
   "metadata": {},
   "outputs": [
    {
     "data": {
      "text/plain": [
       "[<matplotlib.lines.Line2D at 0x7f88d283c970>]"
      ]
     },
     "execution_count": 52,
     "metadata": {},
     "output_type": "execute_result"
    },
    {
     "data": {
      "image/png": "[encoded data removed]",
      "text/plain": [
       "<Figure size 640x480 with 1 Axes>"
      ]
     },
     "metadata": {},
     "output_type": "display_data"
    }
   ],
   "source": [
    "plt.plot(x,u)"
   ]
  },
  {
   "cell_type": "markdown",
   "id": "comparable-verse",
   "metadata": {},
   "source": [
    "初期状態と最終状態（20ステップ後)比較してみましょう。\n",
    "\n",
    "最終状態(20ステップ後）は既に計算したので、初期状態を再度u_initialという変数名で作ります。"
   ]
  },
  {
   "cell_type": "code",
   "execution_count": 53,
   "id": "fiscal-parish",
   "metadata": {},
   "outputs": [],
   "source": [
    "# 初期分布\n",
    "u_initial = np.zeros_like(x)\n",
    "u_initial[int(2/dx):int(5/dx)] = 1"
   ]
  },
  {
   "cell_type": "markdown",
   "id": "sweet-scene",
   "metadata": {},
   "source": [
    "では、初期状態と最終状態を比較しましょう。"
   ]
  },
  {
   "cell_type": "code",
   "execution_count": 54,
   "id": "spanish-jefferson",
   "metadata": {},
   "outputs": [
    {
     "data": {
      "text/plain": [
       "<matplotlib.legend.Legend at 0x7f88d41b7e50>"
      ]
     },
     "execution_count": 54,
     "metadata": {},
     "output_type": "execute_result"
    },
    {
     "data": {
      "image/png": "[encoded data removed]",
      "text/plain": [
       "<Figure size 640x480 with 1 Axes>"
      ]
     },
     "metadata": {},
     "output_type": "display_data"
    }
   ],
   "source": [
    "plt.plot(x,u_initial, label=\"initial state\")\n",
    "plt.plot(x,u, label=\"final state\")\n",
    "plt.legend()"
   ]
  },
  {
   "cell_type": "markdown",
   "id": "rational-cartoon",
   "metadata": {},
   "source": [
    "クーラン数$Co=1$が1の場合は、移流方程式の初期の状態が保ったまま移動していることが確認できます。\n",
    "\n",
    "その理由はpdfで解説"
   ]
  },
  {
   "cell_type": "markdown",
   "id": "bright-crazy",
   "metadata": {},
   "source": [
    "プログラムを関数にまとめておきましょう。プログラムは意味がある機能ごとにまとめておくことで汎用性が増します。\n",
    "\n",
    "例えば、今回は以下のように機能ごとにまとめておくとよいでしょう。\n",
    "\n",
    "- 解析設定\n",
    "- 初期状態\n",
    "- 移流方程式の解法\n",
    "- グラフ化\n",
    "\n",
    "グラフの作り方は[Pythonで1次元移流方程式を離散化して数値流体力学に入門する](https://watlab-blog.com/2022/08/21/1d-advection/)を参考にしました。\n",
    "\n",
    "imgフォルダにgifファイルとして1次元移流方程式を解いた結果をアニメーション作成してくれます。"
   ]
  },
  {
   "cell_type": "markdown",
   "id": "alert-elite",
   "metadata": {},
   "source": [
    "# 移流方程式（後退差分 クーラン数1）のプログラム全体"
   ]
  },
  {
   "cell_type": "code",
   "execution_count": 55,
   "id": "senior-latin",
   "metadata": {},
   "outputs": [
    {
     "name": "stdout",
     "output_type": "stream",
     "text": [
      "クーラン数 = 1.0\n",
      "Iteration= 0\n",
      "Iteration= 10\n",
      "Iteration= 20\n",
      "Iteration= 30\n"
     ]
    }
   ],
   "source": [
    "# 必要なライブラリの設定\n",
    "import numpy as np\n",
    "import matplotlib.pyplot as plt\n",
    "from PIL import Image\n",
    "import os\n",
    "import glob\n",
    "\n",
    "# 初期状態の設定\n",
    "def initial_state(x_min, x_max, dx):\n",
    "    x = np.arange(x_min, x_max, dx)     # 1次元計算格子\n",
    "\n",
    "    # 初期分布uと輸送速度c\n",
    "    u = np.zeros_like(x)\n",
    "    u[int(2/dx):int(5/dx)] = 1\n",
    "    \n",
    "    return x, u\n",
    "\n",
    "# 移流方程式の解法\n",
    "def sol_1d_advection_upwind(x, u, dt, dx, c, step, schems):\n",
    "    dir_ = 'img'\n",
    "    ''' 輸送速度が正の1次元移流方程式を数値計算する '''\n",
    "    for i in range(step):\n",
    "        if i % 10 == 0:\n",
    "            print('Iteration=', i)\n",
    "\n",
    "        un = u.copy()\n",
    "        for j in range(1, len(x)-1):\n",
    "            # 時間項：前進差分/空間項：風上差分\n",
    "            u[j] = un[j] - c * (dt / dx) * (un[j] - un[j-1])\n",
    "        \n",
    "        plot(x, u, i, dir_)   \n",
    "        create_gif(dir_, f'result/001_1d_advection_{schems}.gif') # gifファイルの作成\n",
    "\n",
    "def plot(x, u, i, dir):\n",
    "    ''' シミュレーション結果をプロットし画像を保存する '''\n",
    "    # フォントの種類とサイズを設定する。\n",
    "    plt.rcParams['font.size'] = 16\n",
    "    #plt.rcParams['font.family'] = 'sans-serif'\n",
    "    #plt.rcParams['font.sans-serif'] = ['MS Gothic']\n",
    "\n",
    "    # 目盛を内側にする。\n",
    "    plt.rcParams['xtick.direction'] = 'in'\n",
    "    plt.rcParams['ytick.direction'] = 'in'\n",
    "\n",
    "    # グラフの上下左右に目盛線を付ける。\n",
    "    fig = plt.figure()\n",
    "\n",
    "    ax1 = fig.add_subplot(111)\n",
    "    ax1.yaxis.set_ticks_position('both')\n",
    "    ax1.xaxis.set_ticks_position('both')\n",
    "\n",
    "    # 軸のラベルを設定する。\n",
    "    ax1.set_xlabel('x')\n",
    "    ax1.set_ylabel('u')\n",
    "\n",
    "    # スケールの設定をする。\n",
    "    ax1.set_xlim(np.min(x), np.max(x)-1)\n",
    "    ax1.set_ylim(-0.2, 1.2)\n",
    "\n",
    "    # プロットを行う。\n",
    "    ax1.plot(x, u, label='Result', lw=1, color='red')\n",
    "\n",
    "    # レイアウト設定\n",
    "    fig.tight_layout()\n",
    "\n",
    "    # 画像を保存する。\n",
    "    # dirフォルダが無い時に新規作成\n",
    "    save_dir = dir\n",
    "    if os.path.exists(save_dir):\n",
    "        pass\n",
    "    else:\n",
    "        os.mkdir(save_dir)\n",
    "\n",
    "    # 画像保存パスを準備\n",
    "    path = os.path.join(*[save_dir, str(\"{:05}\".format(i)) + '.png'])\n",
    "\n",
    "    # 画像を保存する\n",
    "    plt.savefig(path)\n",
    "\n",
    "    # グラフを表示する。\n",
    "    #plt.show()\n",
    "    plt.close()\n",
    "    return\n",
    "\n",
    "def create_gif(in_dir, out_filename):\n",
    "    ''' imgフォルダの複数画像からGIF画像を作る '''\n",
    "    path_list = []\n",
    "    path_list = sorted(glob.glob(os.path.join(*[in_dir, '*'])))  # ファイルパスをソートしてリストする\n",
    "    imgs = []                                                    # 画像をappendするための空配列を定義\n",
    "\n",
    "    # ファイルのフルパスからファイル名と拡張子を抽出\n",
    "    for i in range(len(path_list)):\n",
    "        img = Image.open(path_list[i])                           # 画像ファイルを1つずつ開く\n",
    "        imgs.append(img)                                         # 画像をappendで配列に格納していく\n",
    "\n",
    "    # appendした画像配列をGIFにする。durationで持続時間、loopでループ数を指定可能。\n",
    "    imgs[0].save(out_filename,\n",
    "                 save_all=True, append_images=imgs[1:], optimize=False, duration=20, loop=0)\n",
    "    return\n",
    "\n",
    "\n",
    "if __name__ == '__main__':\n",
    "    ''' 条件設定を行いシミュレーションを実行、流れのGIF画像を作成する '''\n",
    "    # 時間項の条件\n",
    "    dt = 0.1\n",
    "\n",
    "    # 空間項の条件\n",
    "    dx = 0.1\n",
    "    x_min = 0\n",
    "    x_max = 10\n",
    "    \n",
    "    c = 1\n",
    "    # クーラン数の確認\n",
    "    co= c * dt / dx\n",
    "\n",
    "    print(f'クーラン数 = {co}')\n",
    "\n",
    "    x, u = initial_state(x_min, x_max, dx) #初期状態\n",
    "    sol_1d_advection_upwind(x=x, u=u, dt=dt, dx=dx, c=c, step=40, schems='upwind_co1.0') # シミュレーションの実行"
   ]
  },
  {
   "cell_type": "markdown",
   "id": "coupled-converter",
   "metadata": {},
   "source": [
    "アニメーションの結果は「result/001_1d_advection_upwind_co1.0.gif」をご確認ください。"
   ]
  },
  {
   "cell_type": "markdown",
   "id": "alert-university",
   "metadata": {},
   "source": [
    "```python\n",
    "if __name__ == '__main__':\n",
    "    (処理内容）\n",
    "```\n",
    "という部分がpythonのmainプログラムの部分です。\n",
    "\n",
    "if文で書かれているのはプログラム自体がmainの実行ファイルかどうかを判定している部分ですが、最初はあまり深く気にしなくても良いです。\n",
    "\n",
    "クラスやモジュールについて学ぶと理由がわかってきます。\n",
    "例えば[こちらの記事](【Python初心者】別ファイルの関数やクラスの実行（モジュール化）)でご自身でも勉強してください。"
   ]
  },
  {
   "cell_type": "markdown",
   "id": "extreme-following",
   "metadata": {},
   "source": [
    "以降、移流方程式の以下の関数の中身を変えることで、差分法の種類を色々と変更することができます。\n",
    "\n",
    "\n",
    "```python\n",
    "# 移流方程式の解法\n",
    "def sol_1d_advection_upwind(x, u, dt, dx, c, step):\n",
    "    dir_ = 'img'\n",
    "    ''' 輸送速度が正の1次元移流方程式を数値計算する '''\n",
    "    for i in range(step):\n",
    "        if i % 10 == 0:\n",
    "            print('Iteration=', i)\n",
    "\n",
    "        un = u.copy()\n",
    "        for j in range(1, len(x)-1):\n",
    "            # 時間項：前進差分/空間項：風上差分\n",
    "            u[j] = un[j] - c * (dt / dx) * (un[j] - un[j-1])\n",
    "        \n",
    "        plot(x, u, i, dir_)   \n",
    "        create_gif(dir_, schems) # シミュレーションの実行) # gifファイルの作成\n",
    "```\n",
    "\n",
    "今回は後退差分を行いました。離散化した方程式を解いている部分は、\n",
    "```python\n",
    "        for j in range(1, len(x)-1):\n",
    "            # 時間項：前進差分/空間項：風上差分\n",
    "            u[j] = un[j] - c * (dt / dx) * (un[j] - un[j-1])\n",
    "```\n",
    "です。"
   ]
  },
  {
   "cell_type": "markdown",
   "id": "spare-campbell",
   "metadata": {},
   "source": [
    "## 移流方程式（後退差分 クーラン数0.5）"
   ]
  },
  {
   "cell_type": "markdown",
   "id": "biological-rehabilitation",
   "metadata": {},
   "source": [
    "クーラン数1の場合は、初期状態のまま形を保ったまま右へ移動する数値解となりましたが、クーラン数0.5の場合はどうでしょうか。\n",
    "\n",
    "先ほどのプログラム全体をコピーしても良いですが、既に関数は実行されているので、メインプログラムの中のクーラン数coの値を1から0.5に変更するだけで可能です。(実際は輸送速度cを0.5倍します)"
   ]
  },
  {
   "cell_type": "code",
   "execution_count": 56,
   "id": "japanese-italian",
   "metadata": {},
   "outputs": [
    {
     "name": "stdout",
     "output_type": "stream",
     "text": [
      "クーラン数 = 0.5\n",
      "Iteration= 0\n",
      "Iteration= 10\n",
      "Iteration= 20\n",
      "Iteration= 30\n"
     ]
    }
   ],
   "source": [
    "if __name__ == '__main__':\n",
    "    ''' 条件設定を行いシミュレーションを実行、流れのGIF画像を作成する '''\n",
    "    # 時間項の条件\n",
    "    dt = 0.1\n",
    "\n",
    "    # 空間項の条件\n",
    "    dx = 0.1\n",
    "    x_min = 0\n",
    "    x_max = 10\n",
    "    \n",
    "    c = 0.5\n",
    "    # クーラン数の確認\n",
    "    co= c * dt / dx\n",
    "\n",
    "    print(f'クーラン数 = {co}')\n",
    "\n",
    "    x, u = initial_state(x_min, x_max, dx) #初期状態\n",
    "    sol_1d_advection_upwind(x=x, u=u, dt=dt, dx=dx, c=c, step=40, schems=\"upwind_co0.5\") # シミュレーションの実行"
   ]
  },
  {
   "cell_type": "markdown",
   "id": "missing-plane",
   "metadata": {},
   "source": [
    "アニメーションの結果は「result/001_1d_advection_upwind_co0.5.gif」をご確認ください。\n",
    "\n",
    "クーラン数0.5にすると初期状態を保つことができず、少し角がなまっており数値拡散が起こっています。"
   ]
  },
  {
   "cell_type": "markdown",
   "id": "medium-blanket",
   "metadata": {},
   "source": [
    "## 移流方程式（後退差分 クーラン数2.0）\n",
    "\n",
    "メインプログラムの中のクーラン数coの値を1から2.0に変更するだけで可能です。(実際は輸送速度cを2倍します)"
   ]
  },
  {
   "cell_type": "code",
   "execution_count": 57,
   "id": "finnish-fisher",
   "metadata": {},
   "outputs": [
    {
     "name": "stdout",
     "output_type": "stream",
     "text": [
      "クーラン数 = 2.0\n",
      "Iteration= 0\n",
      "Iteration= 10\n",
      "Iteration= 20\n",
      "Iteration= 30\n"
     ]
    }
   ],
   "source": [
    "if __name__ == '__main__':\n",
    "    ''' 条件設定を行いシミュレーションを実行、流れのGIF画像を作成する '''\n",
    "    # 時間項の条件\n",
    "    dt = 0.1\n",
    "\n",
    "    # 空間項の条件\n",
    "    dx = 0.1\n",
    "    x_min = 0\n",
    "    x_max = 10\n",
    "    \n",
    "    c = 2.0\n",
    "    # クーラン数の確認\n",
    "    co= c * dt / dx\n",
    "\n",
    "    print(f'クーラン数 = {co}')\n",
    "\n",
    "    x, u = initial_state(x_min, x_max, dx) #初期状態\n",
    "    sol_1d_advection_upwind(x=x, u=u, dt=dt, dx=dx, c=c, step=40, schems=\"upwind_co2.0\") # シミュレーションの実行"
   ]
  },
  {
   "cell_type": "markdown",
   "id": "earlier-steam",
   "metadata": {},
   "source": [
    "アニメーションの結果は「result/1d_advection_upwind_co2.0.gif」をご確認ください。\n",
    "\n",
    "クーラン数2.0にすると初期状態を保つことができず、不安定な解となりました。\n",
    "\n",
    "以上のように、移流方程式の離散化について以下のことがわかりました。\n",
    "\n",
    "- クーラン数は1.0以下で安定(pdf「ノイマンの安定性解析」で解説）\n",
    "- 後退差分（1次精度）はクーラン数1.0以下で安定であるが、変化が大きい部分は数値拡散によって解がなまってしまう。\n",
    "\n",
    "クーラン数は1.0以下でないと不安定であるということは「ノイマンの安定性解析」よりわかっているので、以後クーラン数は1.0以下で扱う。\n",
    "\n",
    "※クーラン数1.0だと当たり前の解$u_{n+1}=n_{n}$(形を保ったまま右へ平行移動するだけの解)しか出ないので、クーラン数は0.5にして数値計算することにする。\n"
   ]
  },
  {
   "cell_type": "markdown",
   "id": "british-rhythm",
   "metadata": {},
   "source": [
    "# 移流方程式（前進差分 クーラン数0.5） "
   ]
  },
  {
   "cell_type": "markdown",
   "id": "vertical-atmosphere",
   "metadata": {},
   "source": [
    "前進差分は空間ラベルiの微分$\\big(\\frac{\\partial u}{\\partial x}\\big)_{j}\\simeq \\frac{u_{j+1}-u_{j}}{\\Delta x}$とすることです。\n",
    "\n",
    "ゆえに前進差分の移流方程式の差分は以下のようになります。\n",
    "\n",
    "\\begin{align*}\n",
    "u^{n+1}_{j}=u^{n}_{j}-\\frac{c\\Delta t}{\\Delta x}\\big(u^{n}_{j+1}-u^{n}_{j}\\big)\n",
    "\\end{align*}\n",
    "を解いています。\n",
    "\n",
    "移流方程式を解いている関数の部分だけを編集します。\n",
    "\n",
    "後退差分は、\n",
    "```python\n",
    "# 移流方程式の解法\n",
    "def sol_1d_advection_upwind(x, u, dt, dx, c, step, schems):\n",
    "    dir_ = 'img'\n",
    "    ''' 輸送速度が正の1次元移流方程式を数値計算する '''\n",
    "    for i in range(step):\n",
    "        if i % 10 == 0:\n",
    "            print('Iteration=', i)\n",
    "\n",
    "        un = u.copy()\n",
    "        for j in range(1, len(x)-1):\n",
    "            # 時間項：前進差分/空間項：風上差分\n",
    "            u[j] = un[j] - c * (dt / dx) * (un[j] - un[j-1])\n",
    "        \n",
    "        plot(x, u, i, dir_)   \n",
    "        create_gif(dir_, f'1d_advection_{schems}.gif') # gifファイルの作成\n",
    "```\n",
    "でした。\n",
    "\n",
    "前進差分は関数名sol_1d_advection_forwardDiffという名前にし、移流方程式の差分は以下に変更します。\n",
    "```python\n",
    "u[j] = un[j] - c * (dt / dx) * (un[j+1] - un[j])\n",
    "```"
   ]
  },
  {
   "cell_type": "code",
   "execution_count": 58,
   "id": "buried-closure",
   "metadata": {},
   "outputs": [],
   "source": [
    "# 移流方程式の差分（陽解法、前進差分）\n",
    "def sol_1d_advection_forwardDiff(x, u, dt, dx, c, step, schems):\n",
    "    dir_ = 'img'\n",
    "    ''' 輸送速度が正の1次元移流方程式を数値計算する '''\n",
    "    for i in range(step):\n",
    "        if i % 10 == 0:\n",
    "            print('Iteration=', i)\n",
    "\n",
    "        un = u.copy()\n",
    "        for j in range(1, len(x)-1):\n",
    "            # 時間項：前進差分/空間項：風上差分\n",
    "            u[j] = un[j] - c * (dt / dx) * (un[j+1] - un[j])\n",
    "        \n",
    "        plot(x, u, i, dir_)   \n",
    "        create_gif(dir_, f'result/001_1d_advection_{schems}.gif') # gifファイルの作成"
   ]
  },
  {
   "cell_type": "markdown",
   "id": "quick-traveler",
   "metadata": {},
   "source": [
    "再度メインの部分だけを呼び出して前進差分での移流方程式を解きます。\n",
    "\n",
    "- クーラン数は0.5(輸送速度c=0.5)\n",
    "- gifファイルの出力ファイル名をforwardDiffにする"
   ]
  },
  {
   "cell_type": "code",
   "execution_count": 59,
   "id": "steady-upset",
   "metadata": {},
   "outputs": [
    {
     "name": "stdout",
     "output_type": "stream",
     "text": [
      "クーラン数 = 0.5\n",
      "Iteration= 0\n",
      "Iteration= 10\n",
      "Iteration= 20\n",
      "Iteration= 30\n"
     ]
    }
   ],
   "source": [
    "if __name__ == '__main__':\n",
    "    ''' 条件設定を行いシミュレーションを実行、流れのGIF画像を作成する '''\n",
    "    # 時間項の条件\n",
    "    dt = 0.1\n",
    "\n",
    "    # 空間項の条件\n",
    "    dx = 0.1\n",
    "    x_min = 0\n",
    "    x_max = 10\n",
    "    \n",
    "    c = 0.5\n",
    "    # クーラン数の確認\n",
    "    co= c * dt / dx\n",
    "\n",
    "    print(f'クーラン数 = {co}')\n",
    "\n",
    "    x, u = initial_state(x_min, x_max, dx) #初期状態\n",
    "    sol_1d_advection_forwardDiff(x=x, u=u, dt=dt, dx=dx, c=c, step=40, schems=\"forwardDiff_co0.5\") # シミュレーションの実行"
   ]
  },
  {
   "cell_type": "markdown",
   "id": "promotional-laugh",
   "metadata": {},
   "source": [
    "アニメーションの結果は「result/001_1d_advection_forwardDiff_co0.5.gif」をご確認ください。\n",
    "\n",
    "後退差分とは違ってクーラン数が1以下であっても不安定であることがわかります。\n",
    "\n",
    "後退差分も前進差分もテーラー展開の1次の項までの精度であるため、空間微分の離散化としては1次精度です。\n",
    "\n",
    "移流方程式を陽解法で解こうとした際の安定化条件はクーラン数$co\\leq 1$でありますが、波形が輸送する方向によって安定か不安定がわかれます。\n",
    "\n",
    "試しに、$c<0$として前進差分にプログラムを変えてみてください。$c<0$の場合は前進差分が安定になり、後退差分が不安定になるはずです。\n",
    "\n",
    "ここまでをまとめると以下のことがわかります。\n",
    "\n",
    "- 輸送速度が正($c>0$)の時は、クーラン数1以下でかつ後退差分は安定\n",
    "- 輸送速度が負($c<0$)の時は、クーラン数1以下でかつ前進差分は安定\n",
    "\n",
    "試しに輸送速度に応じて前進差分と後退差分を切り替えるをプログラムを作ってみましょう。\n",
    "\n"
   ]
  },
  {
   "cell_type": "code",
   "execution_count": 60,
   "id": "traditional-lender",
   "metadata": {},
   "outputs": [],
   "source": [
    "# 移流方程式の差分（陽解法、前進差分と後退差分を輸送速度の正負によって切り替える）\n",
    "def sol_1d_advection_forwardAndupwind(x, u, dt, dx, c, step, schems):\n",
    "    dir_ = 'img'\n",
    "    ''' 輸送速度が正の1次元移流方程式を数値計算する '''\n",
    "    for i in range(step):\n",
    "        if i % 10 == 0:\n",
    "            print('Iteration=', i)\n",
    "\n",
    "        un = u.copy()\n",
    "        for j in range(1, len(x)-1):\n",
    "            # 時間項：前進差分/空間項：風上差分\n",
    "            u[j] = un[j] - 0.5*(c+abs(c)) * (dt / dx) * (un[j] - un[j-1]) - 0.5*(c-abs(c)) * (dt / dx) * (un[j+1] - un[j])\n",
    "        \n",
    "        plot(x, u, i, dir_)   \n",
    "        create_gif(dir_, f'result/001_1d_advection_{schems}.gif') # gifファイルの作成"
   ]
  },
  {
   "cell_type": "markdown",
   "id": "going-basket",
   "metadata": {},
   "source": [
    "### 輸送速度が正($c=0.5$)の場合 "
   ]
  },
  {
   "cell_type": "code",
   "execution_count": 61,
   "id": "devoted-fossil",
   "metadata": {},
   "outputs": [
    {
     "name": "stdout",
     "output_type": "stream",
     "text": [
      "クーラン数 = 0.5\n",
      "Iteration= 0\n",
      "Iteration= 10\n",
      "Iteration= 20\n",
      "Iteration= 30\n"
     ]
    }
   ],
   "source": [
    "if __name__ == '__main__':\n",
    "    ''' 条件設定を行いシミュレーションを実行、流れのGIF画像を作成する '''\n",
    "    # 時間項の条件\n",
    "    dt = 0.1\n",
    "\n",
    "    # 空間項の条件\n",
    "    dx = 0.1\n",
    "    x_min = 0\n",
    "    x_max = 10\n",
    "    \n",
    "    c = 0.5\n",
    "    # クーラン数の確認\n",
    "    co= c * dt / dx\n",
    "\n",
    "    print(f'クーラン数 = {co}')\n",
    "\n",
    "    x, u = initial_state(x_min, x_max, dx) #初期状態\n",
    "    sol_1d_advection_forwardAndupwind(x=x, u=u, dt=dt, dx=dx, c=c, step=40, schems=\"forwardAndupwind_co+0.5\") # シミュレーションの実行"
   ]
  },
  {
   "cell_type": "markdown",
   "id": "rough-trailer",
   "metadata": {},
   "source": [
    "アニメーションの結果は「result/001_1d_advection_forwardAndupwind_co+0.5.gif」をご確認ください。\n",
    "\n",
    "こちらは後退差分になるので、当然安定しています。"
   ]
  },
  {
   "cell_type": "markdown",
   "id": "introductory-receipt",
   "metadata": {},
   "source": [
    "### 輸送速度が負($c=-0.5$)の場合 "
   ]
  },
  {
   "cell_type": "code",
   "execution_count": 62,
   "id": "proof-regression",
   "metadata": {},
   "outputs": [
    {
     "name": "stdout",
     "output_type": "stream",
     "text": [
      "クーラン数 = -0.5\n",
      "Iteration= 0\n",
      "Iteration= 10\n",
      "Iteration= 20\n",
      "Iteration= 30\n"
     ]
    }
   ],
   "source": [
    "if __name__ == '__main__':\n",
    "    ''' 条件設定を行いシミュレーションを実行、流れのGIF画像を作成する '''\n",
    "    # 時間項の条件\n",
    "    dt = 0.1\n",
    "\n",
    "    # 空間項の条件\n",
    "    dx = 0.1\n",
    "    x_min = 0\n",
    "    x_max = 10\n",
    "    \n",
    "    c = -0.5\n",
    "    # クーラン数の確認\n",
    "    co= c * dt / dx\n",
    "\n",
    "    print(f'クーラン数 = {co}')\n",
    "\n",
    "    x, u = initial_state(x_min, x_max, dx) #初期状態\n",
    "    sol_1d_advection_forwardAndupwind(x=x, u=u, dt=dt, dx=dx, c=c, step=40, schems=\"forwardAndupwind_co-0.5\") # シミュレーションの実行"
   ]
  },
  {
   "cell_type": "markdown",
   "id": "after-activity",
   "metadata": {},
   "source": [
    "アニメーションの結果は「result/001_1d_advection_forwardAndupwind_co-0.5.gif」をご確認ください。\n",
    "\n",
    "こちらは輸送速度が負なので、後退差分で解くと不安定になるため、前進差分で解く必要があります。\n",
    "\n",
    "プログラムの内部で前進差分になるためこちらの数値解も安定になります。"
   ]
  },
  {
   "cell_type": "markdown",
   "id": "adaptive-chester",
   "metadata": {},
   "source": [
    "つまり、輸送方向によっては前進差分も安定であるということなので、輸送速度に応じて後退差分か前進差分かを切り替えるようなプログラムであれば1次精度である後退差分も前進差分も安定であるということです。（ざっくりとした理解としてこれでよい）\n",
    "\n",
    "以下余談ですが、今までは時間に対して陽解法である場合の話をしてきました。実は陰解法についてはクーラン数という縛りはなく、1以上でも安定するという無条件安定解となることがあります（ここでは詳しくは触れません。陰解法の場合は反復計算をするため、収束してから次のステップを計算するという特徴があるので安定になります）"
   ]
  },
  {
   "cell_type": "markdown",
   "id": "adjustable-fitting",
   "metadata": {},
   "source": [
    "# 移流方程式（中心差分 クーラン数0.5）"
   ]
  },
  {
   "cell_type": "markdown",
   "id": "convertible-functionality",
   "metadata": {},
   "source": [
    "続いて中心差分についてプログラムを作りましょう。\n",
    "\n",
    "中心差分は空間ラベルiの微分$\\big(\\frac{\\partial u}{\\partial x}\\big)_{j}\\simeq \\frac{u_{j+1}-u_{j-1}}{2\\Delta x}$とすることです。\n",
    "\n",
    "中心差分はテーラー展開の2次の項まで残した空間微分の離散化であるため2次精度です。\n",
    "一般的にテーラー展開の高次の項まで残している、中心差分は微分に対する離散化としては精度が高いですが、流体力学の移流項$(\\boldsymbol{u}\\cdot \\nabla)\\boldsymbol{u}$（今回の移流方程式の$c\\frac{\\partial u}{\\partial x}$)で中心差分を使うと不安定になります。"
   ]
  },
  {
   "cell_type": "markdown",
   "id": "angry-contest",
   "metadata": {},
   "source": [
    "ゆえに中心差分の移流方程式の差分は以下のようになります。\n",
    "\n",
    "\\begin{align*}\n",
    "u^{n+1}_{j}=u^{n}_{j}-\\frac{c\\Delta t}{\\Delta x}\\frac{u^{n}_{j+1}-u^{n}_{j-1}}{2}\n",
    "\\end{align*}\n",
    "を解いています。\n",
    "\n",
    "前進差分のプログラム同様、中心差分は関数名sol_1d_advection_FTCSという名前にし、移流方程式の差分は以下に変更します。\n",
    "```python\n",
    "u[j] = un[j] - c * (dt / dx) * (un[j+1] - un[j-1])/2\n",
    "```"
   ]
  },
  {
   "cell_type": "code",
   "execution_count": 63,
   "id": "trying-anaheim",
   "metadata": {},
   "outputs": [],
   "source": [
    "# 移流方程式の差分（陽解法、中心差分）\n",
    "def sol_1d_advection_FTCS(x, u, dt, dx, c, step, schems):\n",
    "    dir_ = 'img'\n",
    "    ''' 輸送速度が正の1次元移流方程式を数値計算する '''\n",
    "    for i in range(step):\n",
    "        if i % 10 == 0:\n",
    "            print('Iteration=', i)\n",
    "\n",
    "        un = u.copy()\n",
    "        for j in range(1, len(x)-1):\n",
    "            # 時間項：前進差分/空間項：風上差分\n",
    "            u[j] = un[j] - c * (dt / dx) * (un[j+1] - un[j -2])/2\n",
    "        \n",
    "        plot(x, u, i, dir_)   \n",
    "        create_gif(dir_, f'result/001_1d_advection_{schems}.gif') # gifファイルの作成"
   ]
  },
  {
   "cell_type": "markdown",
   "id": "starting-syria",
   "metadata": {},
   "source": [
    "では、中心差分のプログラムを実行しましょう。\n",
    "\n",
    "以下のようにメインプログラムの中の移流方程式を解く関数を中心差分に変更します。"
   ]
  },
  {
   "cell_type": "code",
   "execution_count": 64,
   "id": "statewide-diary",
   "metadata": {},
   "outputs": [
    {
     "name": "stdout",
     "output_type": "stream",
     "text": [
      "クーラン数 = 0.5\n",
      "Iteration= 0\n",
      "Iteration= 10\n",
      "Iteration= 20\n",
      "Iteration= 30\n"
     ]
    }
   ],
   "source": [
    "if __name__ == '__main__':\n",
    "    ''' 条件設定を行いシミュレーションを実行、流れのGIF画像を作成する '''\n",
    "    # 時間項の条件\n",
    "    dt = 0.1\n",
    "\n",
    "    # 空間項の条件\n",
    "    dx = 0.1\n",
    "    x_min = 0\n",
    "    x_max = 10\n",
    "    \n",
    "    c = 0.5\n",
    "    # クーラン数の確認\n",
    "    co= c * dt / dx\n",
    "\n",
    "    print(f'クーラン数 = {co}')\n",
    "\n",
    "    x, u = initial_state(x_min, x_max, dx) #初期状態\n",
    "    sol_1d_advection_FTCS(x=x, u=u, dt=dt, dx=dx, c=c, step=40, schems=\"FTCS_co0.5\") # シミュレーションの実行"
   ]
  },
  {
   "cell_type": "markdown",
   "id": "higher-split",
   "metadata": {},
   "source": [
    "アニメーションの結果は「result/001_1d_advection_FTCS_co0.5.gif」でご確認ください。\n",
    "\n",
    "中心差分は空間微分の離散化に対しては2次精度であるにも関わらず、移流方程式の解として不安定であることがわかります。"
   ]
  },
  {
   "cell_type": "markdown",
   "id": "hourly-latest",
   "metadata": {},
   "source": [
    "# まとめ"
   ]
  },
  {
   "cell_type": "markdown",
   "id": "parental-monitoring",
   "metadata": {},
   "source": [
    "第一回では1次元の移流方程式に対して、時間に対しては陽解法で解き、空間微分に対しては後退差分、前進差分、中心差分でプログラムを作成し数値解の挙動を確かめました。\n",
    "\n",
    "わかったこととして以下のことが挙げられます。\n",
    "\n",
    "- 時間に対して陽解法である場合、クーラン数は1以下で安定である。\n",
    "- 輸送速度が正($c>0$)の場合は、後退差分が安定である。ただし、空間変化が大きい部分では解がなまってしまう\n",
    "- 空間微分の離散化に対して2次精度である中心差分は解としては振動してしまい不安定である。\n",
    "\n",
    "ここから、ざっくりと以下の事が言えます。\n",
    "\n",
    "- 移流方程式の1次精度は安定である。ただし、シャープな変化は取らることができず拡散する\n",
    "- 2次精度（高次精度）は不安定で解が振動しやすい。ただし、（今後わかるが）高次精度はシャープな変化は捉えようとする。\n",
    "\n",
    "つまり、安定だが拡散してしまう1次精度をとるか、シャープな変化をとらえられるが不安定で振動してしまう2次精度の解法のどちらを取るかという問題になります。"
   ]
  },
  {
   "cell_type": "code",
   "execution_count": null,
   "id": "f0d4fa17-0550-40d6-8ff2-2b050776406e",
   "metadata": {},
   "outputs": [],
   "source": []
  }
 ],
 "metadata": {
  "kernelspec": {
   "display_name": "Python 3 (ipykernel)",
   "language": "python",
   "name": "python3"
  },
  "language_info": {
   "codemirror_mode": {
    "name": "ipython",
    "version": 3
   },
   "file_extension": ".py",
   "mimetype": "text/x-python",
   "name": "python",
   "nbconvert_exporter": "python",
   "pygments_lexer": "ipython3",
   "version": "3.10.12"
  }
 },
 "nbformat": 4,
 "nbformat_minor": 5
}
