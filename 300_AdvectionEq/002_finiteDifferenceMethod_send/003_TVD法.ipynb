{
 "cells": [
  {
   "cell_type": "markdown",
   "id": "applied-agriculture",
   "metadata": {},
   "source": [
    "# 目次\n",
    "\n",
    "3. TVD法とは（2週目～4週目）\n",
    " - TVD法の理論とPythonプログラム\n",
    "\n",
    "※以下内容は未定\n",
    "- midmod\n",
    "- Superbee\n",
    "- van Leer\n",
    "- van Albada"
   ]
  },
  {
   "cell_type": "markdown",
   "id": "driving-campus",
   "metadata": {},
   "source": [
    "# 前回までのまとめ"
   ]
  },
  {
   "cell_type": "markdown",
   "id": "affecting-tribune",
   "metadata": {},
   "source": [
    "前回までで以下のことがわかりました。\n",
    "\n",
    "- 1次元移流方程式に対して安定な数値解を得ることができたのは、空間に対して1次精度である風上差分だけである\n",
    "- 2次精度は全て不安定な数値解となる\n",
    "\n",
    "今まで得た離散化手法を以下にまとめておきます。\n",
    "\n",
    "時間に対して以下のように1次の項まで展開します。\n",
    "\\begin{align*}\n",
    "u^{n+1}_{j}=u^{n}_{j}-c\\Delta t\\frac{\\partial u}{\\partial x}\n",
    "\\end{align*}\n",
    "\n",
    "また、数値流束$f=cu$を用いることで以下の形にしておくと便利です。\n",
    "\\begin{align*}\n",
    "u^{n+1}_{j}=u^{n}_{j}-\\frac{\\Delta t}{\\Delta x}(f^{n}_{j+1/2}-f^{n}_{j-1/2})\n",
    "\\end{align*}\n",
    "\n",
    "$\\tilde{f}^{n}_{j+1/2}$はセル表面の数値流束です。各手法は数値流束$\\tilde{f}^{n}_{j+1/2}$の求め方の違いと言って良いです。\n",
    "\n",
    "ここから以下のように離散化手法の分類ができます。\n",
    "\n",
    "### 風上差分 \n",
    "\n",
    "$u^{n+1}_{j}=u^{n}_{j}- c\\Delta t \\frac{u^{n}_{j}-u^{n}_{j-1}}{\\Delta x}$ : 時間1次精度、空間1次精度\n",
    " \n",
    " ```u[j] = un[j] - c * (dt / dx) * (un[j] - un[j-1])```\n",
    "  \n",
    "数値流束：$\\tilde{f}^{n}_{j+1/2}=f^{n}_{j}$\n",
    "\n",
    "### 中心差分\n",
    " \n",
    " $u^{n+1}_{j}=u^{n}_{j}- c\\Delta t \\frac{u^{n}_{j+1}-u^{n}_{j-1}}{2\\Delta x}$ : 時間1次精度、空間2次精度\n",
    " \n",
    " ```u[j] = un[j] - c * (dt / dx) * (un[j+1] - un[j-1])/2```\n",
    "  \n",
    "数値流束：$\\tilde{f}^{n}_{j+1/2}=\\frac{f^{n}_{j+1}-f^{n}_{j}}{2}$\n",
    "\n",
    "### 2次精度風上差分\n",
    "$u^{n+1}_{j}=u^{n}_{j}-\\frac{c\\Delta t}{\\Delta x}(3u^{n}_{j}-4u^{n}_{j}+u^{n}_{j-2})$ : 時間1次精度、空間2次精度\n",
    "\n",
    "```u[j] = un[j] - c * (dt / dx) *  (3*un[j] -4*un[j-1] + un[j-2])```\n",
    "\n",
    "数値流束：$\\tilde{f}^{n}_{j+1/2}=\\frac{3}{2}f^{n}_{j+1}-\\frac{1}{2}f^{n}_{j}$\n",
    "\n",
    "※クーラン数$Co=\\frac{c\\Delta t}{\\Delta x}$\n",
    "###  QUICK\n",
    "$u^{n+1}_{j}=u^{n}_{j}-\\frac{c\\Delta t}{\\Delta x}\\frac{3u^{n}_{j+1}+3u^{n}_{j}-7u^{n}_{j-1}+u^{n}_{j-2}}{8}$ : 時間1次精度、空間2次精度\n",
    "\n",
    "```u[j] = un[j] - c * (dt / dx) *  (3*un[j+1] +3*un[j] - 7*un[j-1] + un[j-2])/8```\n",
    "\n",
    "数値流束：$\\tilde{f}^{n}_{j+1/2}=\\frac{3f^{n}_{j+1}+6f^{n}_{j}-f^{n}_{j-1}}{8}$\n",
    "\n",
    "### Lax-Wendroff法\n",
    "\n",
    "$u^{n+1}_{j}=u^{n}_{j}-\\frac{c\\Delta t}{\\Delta x}\\frac{u^{n}_{j+1}-u^{n}_{j-1}}{2}+\\frac{1}{2}c^2\\Delta t^2\\frac{u_{j+1}-2u_{j}+u_{j-1}}{\\Delta x^2}$ : 時間2次精度、空間2次精度\n",
    "\n",
    "```u[j] = un[j] - c * (dt / dx) * (un[j+1] - un[j-1])/2 + (c * (dt / dx))**2 * (un[j+1] -2*un[j] + un[j-1])/2```\n",
    "\n",
    "数値流束：$\\tilde{f}^{n}_{j+1/2}=\\frac{1-Co}{2}f^{n}_{j+1}-\\frac{1+Co}{2}f^{n}_{j}$"
   ]
  },
  {
   "cell_type": "markdown",
   "id": "smart-monitor",
   "metadata": {},
   "source": [
    "# TVD法\n",
    "\n",
    "Lax-Wendroff法は時間に対して2次精度、空間に対して2次精度でした。\n",
    "\n",
    "1次元移流方程式に対して$\\frac{\\partial u}{\\partial t}+c\\frac{\\partial u}{\\partial x}=0$に対しては以下のように離散化できます。\n",
    "\n",
    "$u^{n+1}_{j}=u^{n}_{j}-\\frac{c\\Delta t}{\\Delta x}\\frac{u^{n}_{j+1}-u^{n}_{j-1}}{2}+\\frac{1}{2}c^2\\Delta t^2\\frac{u_{j+1}-2u_{j}+u_{j-1}}{\\Delta x^2}$ : 時間2次精度、空間2次精度\n",
    "\n",
    "```u[j] = un[j] - c * (dt / dx) * (un[j+1] - un[j-1])/2 + (c * (dt / dx))**2 * (un[j+1] -2*un[j] + un[j-1])/2```"
   ]
  },
  {
   "cell_type": "markdown",
   "id": "younger-sitting",
   "metadata": {},
   "source": [
    "数値流束$f=cu$を用いることで以下の形にしておくと便利です。\n",
    "\\begin{align*}\n",
    "u^{n+1}_{j}=u^{n}_{j}-\\frac{\\Delta x}{\\Delta x}(\\tilde{f}^{n}_{j+1/2}-\\tilde{f}^{n}_{j-1/2})\n",
    "\\end{align*}\n",
    "$f^{n}_{j+1/2}$はセル表面の数値流束です。\n",
    "\n",
    "数値流束：$\\tilde{f}^{n}_{j+1/2}=\\frac{1-Co}{2}f^{n}_{j+1}-\\frac{1+Co}{2}f^{n}_{j}$\n",
    "\n",
    "\\begin{align*}\n",
    "\\tilde{f}^{n}_{j+1/2}=f^{n}_{j}-\\frac{1}{2}(1-Co)(f^{n}_{j}-(f^{n}_{j-1})\n",
    "\\end{align*}\n",
    "\n",
    "※クーラン数$Co=\\frac{c\\Delta t}{\\Delta x}$\n",
    "\n",
    "Lax-Wendroff法は以下のように1次精度の風上差分$f^{n}_{j}$とその補正項に書き換えることができます。\n",
    "\n",
    "\\begin{align*}\n",
    "\\tilde{f}^{n}_{j+1/2}=\\underset{風上差分}{f^{n}_{j}}\\underset{補正項}{-\\frac{1}{2}(1-Co)(f^{n}_{j}-f^{n}_{j-1})}\n",
    "\\end{align*}"
   ]
  },
  {
   "cell_type": "markdown",
   "id": "fifth-artist",
   "metadata": {},
   "source": [
    "第1項だけだと空間1次精度の風上差分なので解は安定するが拡散します。\n",
    "\n",
    "第2項は不連続解をシャープにとらえようとするが、振動してしまうといった数値的にデメリットの効果もあります。\n",
    "\n",
    "不連続な部分はできるだけ振動を抑えながら単調性を保持した数値的解法はTVD法といい、流束制限関数$B_{j+1/2}(r_{j})$を用いて第2項を振動しないように抑制します。\n",
    "\n",
    "\\begin{align*}\n",
    "\\tilde{f}^{n}_{j+1/2}=\\underset{風上差分}{f^{n}_{j}}\\underset{補正項\\times 流束制限関数}{-\\frac{1}{2}(1-Co)B_{j+1/2}(r_{j})(f^{n}_{j}-f^{n}_{j-1})}\n",
    "\\end{align*}\n",
    "\n",
    "※クーラン数$Co=\\frac{c\\Delta t}{\\Delta x}$"
   ]
  },
  {
   "cell_type": "markdown",
   "id": "rapid-ready",
   "metadata": {},
   "source": [
    "<img src=\"./doc/fig/1.PNG\">"
   ]
  },
  {
   "cell_type": "markdown",
   "id": "dying-realtor",
   "metadata": {},
   "source": [
    "<img src=\"./doc/fig/2.PNG\">\n",
    "\n",
    "<img src=\"./doc/fig/3.PNG\">"
   ]
  },
  {
   "cell_type": "markdown",
   "id": "continent-flavor",
   "metadata": {},
   "source": [
    "上記のように緑の枠内に流束制限関数が通るようにすれば、TVD条件を（単調性）を満たしつつ2次精度を維持できるスキームになります。\n",
    "\n",
    "以下、TVDスキームと呼ばれるスキームを1次元移流方程式に適用してみます。"
   ]
  },
  {
   "cell_type": "markdown",
   "id": "conservative-disclaimer",
   "metadata": {},
   "source": [
    "# 色々なTVD法 \n",
    "\n",
    "今回紹介するのは以下のTVDスキームです。\n",
    "\n",
    "- minmod\n",
    "- Superbee\n",
    "- vanLeer\n",
    "- vanAlbada\n",
    "\n",
    "これらのスキームをできるだけ簡単にプログラム内で切り替えて使えるようにします。\n",
    "\n",
    "まずはそれぞれの$r-B$図を確認しましょう。"
   ]
  },
  {
   "cell_type": "markdown",
   "id": "suffering-hierarchy",
   "metadata": {},
   "source": [
    "## minmod\n",
    "\n",
    "<img src=\"./doc/fig/minmod.PNG\">"
   ]
  },
  {
   "cell_type": "markdown",
   "id": "vocational-breakfast",
   "metadata": {},
   "source": [
    "## Superbee\n",
    "\n",
    "<img src=\"./doc/fig/superbee.PNG\">"
   ]
  },
  {
   "cell_type": "markdown",
   "id": "talented-sigma",
   "metadata": {},
   "source": [
    "## vanLeer\n",
    "\n",
    "<img src=\"./doc/fig/vanLeer.PNG\">"
   ]
  },
  {
   "cell_type": "markdown",
   "id": "vocational-headline",
   "metadata": {},
   "source": [
    "## vanAlbada\n",
    "\n",
    "<img src=\"./doc/fig/vanAlbada.PNG\">"
   ]
  },
  {
   "cell_type": "markdown",
   "id": "handy-arrival",
   "metadata": {},
   "source": [
    "## プログラム作成の方針\n",
    "\n",
    "TVD法をプログラムにする際の方針をまとめておきます。\n",
    "\n",
    "1. 移流方程式$\\frac{\\partial u}{\\partial t}+c\\frac{\\partial u}{\\partial x}=0$を時間に対してテーラー展開する\n",
    "\n",
    "\\begin{align*}\n",
    "u^{n+1}_{j}=u^{n}_{j}-c\\Delta t\\frac{\\partial u}{\\partial x}+\\frac{1}{2}c^2\\Delta t^2\\frac{\\partial^2 u }{\\partial x^2}\n",
    "\\end{align*}\n",
    "\n",
    "- 風上差分\n",
    "- 中心差分\n",
    "- 2次精度風上差分\n",
    "\n",
    "などは時間に対して1次精度なので$\\Delta t^2$の項は必要ない\n",
    "\n",
    "2. Lax-Wendroff法で離散化する（時間2次精度、空間2次精度）\n",
    "\n",
    "\\begin{align*}\n",
    "u^{n+1}_{j}=u^{n}_{j}-\\frac{c\\Delta t}{\\Delta x}\\frac{u^{n}_{j+1}-u^{n}_{j-1}}{2}+\\frac{1}{2}c^2\\Delta t^2\\frac{u_{j+1}-2u_{j}+u_{j-1}}{\\Delta x^2}\n",
    "\\end{align*}\n",
    "\n",
    "```u[j] = un[j] - c * (dt / dx) * (un[j+1] - un[j-1])/2 + (c * (dt / dx))**2 * (un[j+1] -2*un[j] + un[j-1])/2```\n",
    "\n",
    "3. 数値流束を導入する\n",
    "\n",
    "数値流束$f=cu$を用いることで以下の形にしておくと便利です。\n",
    "\\begin{align*}\n",
    "u^{n+1}_{j}=u^{n}_{j}-\\frac{\\Delta x}{\\Delta x}(\\tilde{f}^{n}_{j+1/2}-\\tilde{f}^{n}_{j-1/2})\n",
    "\\end{align*}\n",
    "$f^{n}_{j+1/2}$はセル表面の数値流束です。\n",
    "\n",
    "\\begin{align*}\n",
    "\\tilde{f}^{n}_{j+1/2}=\\underset{風上差分}{f^{n}_{j}}\\underset{補正項\\times 流束制限関数}{-\\frac{1}{2}(1-Co)B_{j+1/2}(r_{j})(f^{n}_{j}-f^{n}_{j-1})}\n",
    "\\end{align*}\n",
    "\n",
    "4. 流束制限関数まとめ\n",
    "\n",
    "- midmod : $B_{j+1/2}(r_{j})=max(0, min(1,2r), min(2,r))$\n",
    "- Superbee : $B_{j+1/2}(r_{j})=max(0, min(1,r))$\n",
    "- vanLeer : $B_{j+1/2}(r_{j})=\\frac{r+|r|}{1+|r|}$\n",
    "- vanAlbada : $B_{j+1/2}(r_{j})=\\frac{r+r^2}{1+r^2}$"
   ]
  },
  {
   "cell_type": "markdown",
   "id": "ignored-jefferson",
   "metadata": {},
   "source": [
    "# プログラムの作成\n",
    "\n",
    "以下のPython関数部分は残しておきます。\n",
    "\n",
    "- 初期状態の設定\n",
    "- グラフのプロットの設定\n",
    "- アニメーション作成設定"
   ]
  },
  {
   "cell_type": "code",
   "execution_count": 17,
   "id": "alleged-private",
   "metadata": {},
   "outputs": [],
   "source": [
    "# 必要なライブラリの設定\n",
    "import numpy as np\n",
    "import matplotlib.pyplot as plt\n",
    "from PIL import Image\n",
    "import os\n",
    "import glob\n",
    "import shutil\n",
    "\n",
    "# 初期状態の設定\n",
    "def initial_state(x_min, x_max, dx):\n",
    "    x = np.arange(x_min, x_max, dx)     # 1次元計算格子\n",
    "\n",
    "    # 初期分布uと輸送速度c\n",
    "    u = np.zeros_like(x)\n",
    "    u[int(2/dx):int(5/dx)] = 1\n",
    "    \n",
    "    return x, u\n",
    "\n",
    "# グラフのプロットの設定\n",
    "def plot(x, u, i, dir_):\n",
    "    ''' シミュレーション結果をプロットし画像を保存する '''\n",
    "    # フォントの種類とサイズを設定する。\n",
    "    plt.rcParams['font.size'] = 16\n",
    "    #plt.rcParams['font.family'] = 'sans-serif'\n",
    "    #plt.rcParams['font.sans-serif'] = ['MS Gothic']\n",
    "\n",
    "    # 目盛を内側にする。\n",
    "    plt.rcParams['xtick.direction'] = 'in'\n",
    "    plt.rcParams['ytick.direction'] = 'in'\n",
    "\n",
    "    # グラフの上下左右に目盛線を付ける。\n",
    "    fig = plt.figure()\n",
    "\n",
    "    ax1 = fig.add_subplot(111)\n",
    "    ax1.yaxis.set_ticks_position('both')\n",
    "    ax1.xaxis.set_ticks_position('both')\n",
    "\n",
    "    # 軸のラベルを設定する。\n",
    "    ax1.set_xlabel('x')\n",
    "    ax1.set_ylabel('u')\n",
    "\n",
    "    # スケールの設定をする。\n",
    "    ax1.set_xlim(np.min(x), np.max(x)-1)\n",
    "    ax1.set_ylim(-0.2, 1.2)\n",
    "\n",
    "    # プロットを行う。\n",
    "    ax1.plot(x, u, label='Result', lw=1, color='red')\n",
    "\n",
    "    # レイアウト設定\n",
    "    fig.tight_layout()\n",
    "\n",
    "    # 画像を保存する。\n",
    "    # dirフォルダが無い時に新規作成\n",
    "    save_dir = dir_\n",
    "    if os.path.exists(save_dir):\n",
    "        pass\n",
    "    else:\n",
    "        os.mkdir(save_dir)\n",
    "\n",
    "    # 画像保存パスを準備\n",
    "    path = os.path.join(*[save_dir, str(\"{:05}\".format(i)) + '.png'])\n",
    "\n",
    "    # 画像を保存する\n",
    "    plt.savefig(path)\n",
    "\n",
    "    # グラフを表示する。\n",
    "    #plt.show()\n",
    "    plt.close()\n",
    "    return\n",
    "\n",
    "def create_gif(in_dir, out_filename):\n",
    "    ''' imgフォルダの複数画像からGIF画像を作る '''\n",
    "    path_list = []\n",
    "    path_list = sorted(glob.glob(os.path.join(*[in_dir, '*'])))  # ファイルパスをソートしてリストする\n",
    "    imgs = []                                                    # 画像をappendするための空配列を定義\n",
    "\n",
    "    # ファイルのフルパスからファイル名と拡張子を抽出\n",
    "    for i in range(len(path_list)):\n",
    "        img = Image.open(path_list[i])                           # 画像ファイルを1つずつ開く\n",
    "        imgs.append(img)                                         # 画像をappendで配列に格納していく\n",
    "\n",
    "    # appendした画像配列をGIFにする。durationで持続時間、loopでループ数を指定可能。\n",
    "    imgs[0].save(out_filename,\n",
    "                 save_all=True, append_images=imgs[1:], optimize=False, duration=20, loop=0)\n",
    "    return"
   ]
  },
  {
   "cell_type": "markdown",
   "id": "automated-launch",
   "metadata": {},
   "source": [
    "TVD法での計算を楽にするために移流方程式を解いている部分を編集していきます。"
   ]
  },
  {
   "cell_type": "markdown",
   "id": "protective-theater",
   "metadata": {},
   "source": [
    "例えば風上差分は以下のような離散化手法で解くため、今までは移流方程式を解く部分は手法に応じてそのままプログラムを書いていました。\n",
    "\n",
    "$u^{n+1}_{j}=u^{n}_{j}- c\\Delta t \\frac{u^{n}_{j}-u^{n}_{j-1}}{\\Delta x}$ : 時間1次精度、空間1次精度\n",
    " \n",
    " ```u[j] = un[j] - c * (dt / dx) * (un[j] - un[j-1])```\n",
    "  \n",
    "```python\n",
    "   for i in range(step):\n",
    "        if i % 10 == 0:\n",
    "            print('Iteration=', i)\n",
    "\n",
    "        un = u.copy()\n",
    "        for j in range(1, len(x)-1):\n",
    "            # 時間項：前進差分/空間項：風上差分\n",
    "            u[j] = un[j] - c * (dt / dx) * (un[j] - un[j-1])\n",
    "        \n",
    "        plot(x, u, i, dir_)   \n",
    "        create_gif(dir_, f'1d_advection_{schems}.gif') # gifファイルの作成\n",
    " ```"
   ]
  },
  {
   "cell_type": "markdown",
   "id": "satisfactory-wyoming",
   "metadata": {},
   "source": [
    "しかし、移流方程式は\n",
    "\n",
    "数値流束$f=cu$を用いることで以下の形にしておき、セル表面の数値流束$f^{n}_{j+1/2}$でそれぞれの離散化手法を区別すれば統一したプログラムを書くことができます。\n",
    "\n",
    "\n",
    "\\begin{align*}\n",
    "u^{n+1}_{j}=u^{n}_{j}-\\frac{\\Delta x}{\\Delta x}(\\tilde{f}^{n}_{j+1/2}-\\tilde{f}^{n}_{j-1/2})\n",
    "\\end{align*}\n",
    "\n",
    "$\\tilde{f}^{n}_{j+1/2}$は```ff1 = flux_half(dt, dx, j)```で求め、$\\tilde{f}^{n}_{j-1/2}$は```ff2 = flux_half(dt, dx, j-1)```で求めるようにします。\n",
    "\n",
    "```flux_half```は$\\tilde{f}^{n}_{j+1/2}$を求める関数です。\n",
    "\n",
    "例えばLax-Wendroff法は$\\tilde{f}^{n}_{j+1/2}=\\underset{風上差分}{f^{n}_{j}}\\underset{補正項}{-\\frac{1}{2}(1-Co)(r_{j})(f^{n}_{j}-f^{n}_{j-1})}$なのでLax-Wendroff法用に別で用意しておけば良いです。\n",
    "\n",
    "移流方程式を解く関数名は```sol_1d_advection```として引数の最後に離散化手法に応じた数値流束$f_{j+1/2}$を求めるための関数```flux_half```を入れておきます。"
   ]
  },
  {
   "cell_type": "code",
   "execution_count": 18,
   "id": "seasonal-breeding",
   "metadata": {},
   "outputs": [],
   "source": [
    "def sol_1d_advection(x, u, dt, dx, c, step, schems, flux_half):\n",
    "    dir_ = 'img'\n",
    "    ''' 輸送速度が正の1次元移流方程式を数値計算する '''\n",
    "    for i in range(step):\n",
    "        if i % 10 == 0:\n",
    "            print('Iteration=', i)\n",
    "\n",
    "        un = u.copy()\n",
    "        for j in range(1, len(x)-1):\n",
    "            ff1 = flux_half(un, c, dt, dx, j)\n",
    "            ff2 = flux_half(un, c, dt, dx, j-1)\n",
    "            u[j] = un[j] -(dt / dx) * (ff1 - ff2)\n",
    "\n",
    "        plot(x, u, i, dir_)   \n",
    "        create_gif(dir_, f'result/003_1d_advection_{schems}.gif') # gifファイルの作成"
   ]
  },
  {
   "cell_type": "markdown",
   "id": "substantial-heritage",
   "metadata": {},
   "source": [
    "この```sol_1d_advection```は全ての離散化手法で統一して使える関数です。\n",
    "\n",
    "離散化手法によって区別するのは引数の```flux_half```だけです。\n",
    "\n",
    "では、各離散化手法に応じて```flux_half```を書いていきましょう。\n",
    "\n",
    "まずは、TVD法以外の手法についてプログラムを作成します。\n",
    "\n",
    "再度各手法で数値流束がどのよう書けるかを書き記しておきます。\n",
    "\n",
    "- 風上差分 : $\\tilde{f}^{n}_{j+1/2}=f^{n}_{j}$\n",
    "- 中心差分 : $\\tilde{f}^{n}_{j+1/2}=\\frac{f^{n}_{j+1}-f^{n}_{j}}{2}$\n",
    "- 2次精度風上差分 : $\\tilde{f}^{n}_{j+1/2}=\\frac{3}{2}f^{n}_{j}-\\frac{1}{2}f^{n}_{j-1}$\n",
    "- QUICK : $\\tilde{f}^{n}_{j+1/2}=\\frac{3f^{n}_{j+1}+6f^{n}_{j}-f^{n}_{j-1}}{8}$\n",
    "- Lax-Wendroff法: $\\tilde{f}^{n}_{j+1/2}=\\frac{1-Co}{2}f^{n}_{j+1}-\\frac{1+Co}{2}f^{n}_{j}$"
   ]
  },
  {
   "cell_type": "code",
   "execution_count": 19,
   "id": "sustained-horror",
   "metadata": {},
   "outputs": [],
   "source": [
    "# 風上差分\n",
    "def upwind(u, c, dt, dx, j):\n",
    "    f = c*u[j]\n",
    "    return f"
   ]
  },
  {
   "cell_type": "code",
   "execution_count": 20,
   "id": "natural-headline",
   "metadata": {},
   "outputs": [],
   "source": [
    "# 中心差分\n",
    "def FTCS(u, c, dt, dx, j):\n",
    "    f = c*u[j+1] - c*u[j]\n",
    "    return f"
   ]
  },
  {
   "cell_type": "code",
   "execution_count": 21,
   "id": "reasonable-forest",
   "metadata": {},
   "outputs": [],
   "source": [
    "# 2次精度風上差分\n",
    "def upwind2(u, c, dt, dx, j):\n",
    "    f = 3/2*c*u[j] - 1/2*c*u[j-1]\n",
    "    return f"
   ]
  },
  {
   "cell_type": "code",
   "execution_count": 22,
   "id": "purple-exchange",
   "metadata": {},
   "outputs": [],
   "source": [
    "# QUICK\n",
    "def QUICK(u, c, dt, dx, j):\n",
    "    f = 1/8 * c * (3 * u[j+1] + 6 * u[j] - u[j-1])\n",
    "    return f"
   ]
  },
  {
   "cell_type": "code",
   "execution_count": 23,
   "id": "growing-share",
   "metadata": {},
   "outputs": [],
   "source": [
    "# Lax-Wendroff\n",
    "def LaxWendroff(u, c, dt, dx, j):\n",
    "    co = c*dt/dx #クーラン数\n",
    "    f = c* ( u[j] + 1/2*(1-co)*(u[j+1] - u[j]) )\n",
    "    return f"
   ]
  },
  {
   "cell_type": "markdown",
   "id": "liquid-guard",
   "metadata": {},
   "source": [
    "main関数実行時に```sol_1d_advection(x=x, u=u, dt=dt, dx=dx, c=c, step=40, schems=\"LaxWendroff_co0.5\",flux_half=LaxWendroff) ```の```flux_half```の引数を上記の関数に切り替えることで各手法の離散化スキームを切り替えることができます。"
   ]
  },
  {
   "cell_type": "code",
   "execution_count": 24,
   "id": "insured-emphasis",
   "metadata": {},
   "outputs": [
    {
     "name": "stdout",
     "output_type": "stream",
     "text": [
      "クーラン数 = 0.5\n",
      "Iteration= 0\n",
      "Iteration= 10\n",
      "Iteration= 20\n",
      "Iteration= 30\n",
      "Iteration= 0\n",
      "Iteration= 10\n",
      "Iteration= 20\n",
      "Iteration= 30\n",
      "Iteration= 0\n",
      "Iteration= 10\n",
      "Iteration= 20\n",
      "Iteration= 30\n",
      "Iteration= 0\n",
      "Iteration= 10\n",
      "Iteration= 20\n",
      "Iteration= 30\n",
      "Iteration= 0\n",
      "Iteration= 10\n",
      "Iteration= 20\n",
      "Iteration= 30\n"
     ]
    }
   ],
   "source": [
    "if __name__ == '__main__':\n",
    "    \n",
    "    ''' 条件設定を行いシミュレーションを実行、流れのGIF画像を作成する '''\n",
    "    # 時間項の条件\n",
    "    dt = 0.1\n",
    "\n",
    "    # 空間項の条件\n",
    "    dx = 0.1\n",
    "    x_min = 0\n",
    "    x_max = 10\n",
    "    \n",
    "    c = 0.5\n",
    "    # クーラン数の確認\n",
    "    co= c * dt / dx\n",
    "\n",
    "    print(f'クーラン数 = {co}')\n",
    "\n",
    "    x, u = initial_state(x_min, x_max, dx) #初期状態\n",
    "    sol_1d_advection(x=x, u=u, dt=dt, dx=dx, c=c, step=40, schems=f\"upwind_co0.5\",flux_half=upwind) # シミュレーションの実行\n",
    "    \n",
    "    x, u = initial_state(x_min, x_max, dx) #初期状態\n",
    "    sol_1d_advection(x=x, u=u, dt=dt, dx=dx, c=c, step=40, schems=f\"FTCS_co0.5\",flux_half=FTCS) # シミュレーションの実行\n",
    "    \n",
    "    x, u = initial_state(x_min, x_max, dx) #初期状態\n",
    "    sol_1d_advection(x=x, u=u, dt=dt, dx=dx, c=c, step=40, schems=f\"upwind2_co0.5\",flux_half=upwind2) # シミュレーションの実行\n",
    "    \n",
    "    x, u = initial_state(x_min, x_max, dx) #初期状態\n",
    "    sol_1d_advection(x=x, u=u, dt=dt, dx=dx, c=c, step=40, schems=f\"QUICK_co0.5\",flux_half=QUICK) # シミュレーションの実行\n",
    "    \n",
    "    x, u = initial_state(x_min, x_max, dx) #初期状態\n",
    "    sol_1d_advection(x=x, u=u, dt=dt, dx=dx, c=c, step=40, schems=f\"LaxWendroff_co0.5\",flux_half=LaxWendroff) # シミュレーションの実行"
   ]
  },
  {
   "cell_type": "markdown",
   "id": "unable-myanmar",
   "metadata": {},
   "source": [
    "前回までの結果と同じ結果になっていることを確かめてください。"
   ]
  },
  {
   "cell_type": "markdown",
   "id": "alleged-brisbane",
   "metadata": {},
   "source": [
    "## TVD法のプログラム\n",
    "\n",
    "続いてTVDスキームに移ります。\n",
    "\n",
    "TVD法を復習しておきます。\n",
    "\n",
    "- Lax-Wendroff法: $\\tilde{f}^{n}_{j+1/2}=\\frac{1-Co}{2}f^{n}_{j+1}-\\frac{1+Co}{2}f^{n}_{j}$\n",
    "を以下のように書き換えることができることを思い出します。\n",
    "\n",
    "\\begin{align*}\n",
    "\\tilde{f}^{n}_{j+1/2}=f_{j}+\\frac{1}{2}(1-Co)(f_{j+1}-f_{j})\n",
    "\\end{align*}\n",
    "\n",
    "そして、流速制限関数を用いて高次の項を抑える関数を用いて以下のように書くことができます。\n",
    "\n",
    "\\begin{align*}\n",
    "\\tilde{f}^{n}_{j+1/2}=\\underset{風上差分}{f^{n}_{j}}\\underset{補正項\\times 流束制限関数}{-\\frac{1}{2}(1-Co)B_{j+1/2}(r_{j})(f^{n}_{j}-f^{n}_{j-1})}\n",
    "\\end{align*}\n",
    "\n",
    "流束制限関数を以下のように用いることでTVDスキームを切り替えることができます。\n",
    "\n",
    "- midmod : $B_{j+1/2}(r_{j})=max(0, min(1,2r), min(2,r))$\n",
    "- Superbee : $B_{j+1/2}(r_{j})=max(0, min(1,r))$\n",
    "- vanLeer : $B_{j+1/2}(r_{j})=\\frac{r+|r|}{1+|r|}$\n",
    "- vanAlbada : $B_{j+1/2}(r_{j})=\\frac{r+r^2}{1+r^2}$"
   ]
  },
  {
   "cell_type": "code",
   "execution_count": 25,
   "id": "changed-tanzania",
   "metadata": {},
   "outputs": [],
   "source": [
    "# minmod\n",
    "def minmod(u, c, dt, dx, j):\n",
    "    co = c*dt/dx #クーラン数\n",
    "    \n",
    "    if u[j+1] - u[j] == 0:\n",
    "        r = 0\n",
    "    else :\n",
    "        r = (u[j] - u[j-1])/(u[j+1] - u[j])\n",
    "    B = max(0, min(1,r))\n",
    "    f = c* ( u[j] + 1/2*(1-co)*B*(u[j+1] - u[j]) )\n",
    "    return f"
   ]
  },
  {
   "cell_type": "code",
   "execution_count": 26,
   "id": "steady-respondent",
   "metadata": {},
   "outputs": [],
   "source": [
    "# Superbee\n",
    "def Superbee(u, c, dt, dx, j):\n",
    "    co = c*dt/dx #クーラン数\n",
    "\n",
    "    if u[j+1] - u[j] == 0:\n",
    "        r = 0\n",
    "    else :\n",
    "        r = (u[j] - u[j-1])/(u[j+1] - u[j])\n",
    "    \n",
    "    B = max(0, min(1,2*r),min(2,r))\n",
    "    f = c* ( u[j] + 1/2*(1-co)*B*(u[j+1] - u[j]) )\n",
    "    return f"
   ]
  },
  {
   "cell_type": "code",
   "execution_count": 27,
   "id": "flexible-candidate",
   "metadata": {},
   "outputs": [],
   "source": [
    "# vanLeer\n",
    "def vanLeer(u, c, dt, dx, j):\n",
    "    co = c*dt/dx #クーラン数\n",
    "    \n",
    "    if u[j+1] - u[j] == 0:\n",
    "        r = 0\n",
    "    else :\n",
    "        r = (u[j] - u[j-1])/(u[j+1] - u[j])\n",
    "    \n",
    "    B = (r + abs(r))/(1 + abs(r))\n",
    "    f = c* ( u[j] + 1/2*(1-co)*B*(u[j+1] - u[j]) )\n",
    "    return f"
   ]
  },
  {
   "cell_type": "code",
   "execution_count": 28,
   "id": "expressed-rouge",
   "metadata": {},
   "outputs": [],
   "source": [
    "# vanAlbada\n",
    "def vanAlbada(u, c, dt, dx, j):\n",
    "    co = c*dt/dx #クーラン数\n",
    "    \n",
    "    if u[j+1] - u[j] == 0:\n",
    "        r = 0\n",
    "    else :\n",
    "        r = (u[j] - u[j-1])/(u[j+1] - u[j])\n",
    "    \n",
    "    B = (r + r**2)/(1 + r**2)\n",
    "    f = c* ( u[j] + 1/2*(1-co)*B*(u[j+1] - u[j]) )\n",
    "    return f"
   ]
  },
  {
   "cell_type": "markdown",
   "id": "outer-europe",
   "metadata": {},
   "source": [
    "main関数実行時に```sol_1d_advection(x=x, u=u, dt=dt, dx=dx, c=c, step=40, schems=\"LaxWendroff_co0.5\",flux_half=LaxWendroff) ```の```flux_half```の引数を上記の関数に切り替えることで各手法の離散化スキームを切り替えることができます。"
   ]
  },
  {
   "cell_type": "code",
   "execution_count": 29,
   "id": "practical-tumor",
   "metadata": {},
   "outputs": [
    {
     "name": "stdout",
     "output_type": "stream",
     "text": [
      "クーラン数 = 0.5\n",
      "Iteration= 0\n",
      "Iteration= 10\n",
      "Iteration= 20\n",
      "Iteration= 30\n",
      "Iteration= 0\n",
      "Iteration= 10\n",
      "Iteration= 20\n",
      "Iteration= 30\n",
      "Iteration= 0\n",
      "Iteration= 10\n",
      "Iteration= 20\n",
      "Iteration= 30\n",
      "Iteration= 0\n",
      "Iteration= 10\n",
      "Iteration= 20\n",
      "Iteration= 30\n"
     ]
    }
   ],
   "source": [
    "if __name__ == '__main__':\n",
    "    \n",
    "    ''' 条件設定を行いシミュレーションを実行、流れのGIF画像を作成する '''\n",
    "    # 時間項の条件\n",
    "    dt = 0.1\n",
    "\n",
    "    # 空間項の条件\n",
    "    dx = 0.1\n",
    "    x_min = 0\n",
    "    x_max = 10\n",
    "    \n",
    "    c = 0.5\n",
    "    # クーラン数の確認\n",
    "    co= c * dt / dx\n",
    "\n",
    "    print(f'クーラン数 = {co}')\n",
    "\n",
    "    x, u = initial_state(x_min, x_max, dx) #初期状態\n",
    "    sol_1d_advection(x=x, u=u, dt=dt, dx=dx, c=c, step=40, schems=\"minmode_co0.5\",flux_half=minmod) # シミュレーションの実行\n",
    "\n",
    "    x, u = initial_state(x_min, x_max, dx) #初期状態\n",
    "    sol_1d_advection(x=x, u=u, dt=dt, dx=dx, c=c, step=40, schems=\"Superbee_co0.5\",flux_half=Superbee) # シミュレーションの実行\n",
    "    \n",
    "    x, u = initial_state(x_min, x_max, dx) #初期状態\n",
    "    sol_1d_advection(x=x, u=u, dt=dt, dx=dx, c=c, step=40, schems=\"vanLeer_co0.5\",flux_half=vanLeer) # シミュレーションの実行\n",
    "    \n",
    "    x, u = initial_state(x_min, x_max, dx) #初期状態\n",
    "    sol_1d_advection(x=x, u=u, dt=dt, dx=dx, c=c, step=40, schems=\"vanAlbada_co0.5\",flux_half=vanAlbada) # シミュレーションの実行"
   ]
  },
  {
   "cell_type": "markdown",
   "id": "75961ea9-6c79-48b1-84e0-a2aaa1bbd004",
   "metadata": {},
   "source": [
    "# まとめ\n",
    "\n",
    "- 空間1次精度の風上差分なので解は安定するが拡散します。\n",
    "- 空間高次精度では不連続解をシャープにとらえようとするが、振動してしまうといった数値的にデメリットの効果もあります。\n",
    "\n",
    "不連続な部分はできるだけ振動を抑えながら単調性を保持した数値的解法はTVD法といい、流束制限関数を用いて高次の項で振動しないように解を抑制しています。"
   ]
  },
  {
   "cell_type": "code",
   "execution_count": null,
   "id": "4d3e1f99-baba-4ca9-a9f4-f6d6e90f05ea",
   "metadata": {},
   "outputs": [],
   "source": []
  }
 ],
 "metadata": {
  "kernelspec": {
   "display_name": "Python 3 (ipykernel)",
   "language": "python",
   "name": "python3"
  },
  "language_info": {
   "codemirror_mode": {
    "name": "ipython",
    "version": 3
   },
   "file_extension": ".py",
   "mimetype": "text/x-python",
   "name": "python",
   "nbconvert_exporter": "python",
   "pygments_lexer": "ipython3",
   "version": "3.10.12"
  }
 },
 "nbformat": 4,
 "nbformat_minor": 5
}
