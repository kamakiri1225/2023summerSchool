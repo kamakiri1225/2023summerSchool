{
 "cells": [
  {
   "cell_type": "markdown",
   "id": "outdoor-climate",
   "metadata": {},
   "source": [
    "# 目次\n",
    "\n",
    "2.　離散化手法（1週目～2週目）\n",
    "  - Lax-Wendroff法\n",
    "  - 2次精度風上差分\n",
    "  - QUICK"
   ]
  },
  {
   "cell_type": "markdown",
   "id": "determined-childhood",
   "metadata": {},
   "source": [
    "# 移流方程式の全体のプログラムについて\n",
    "\n",
    "まずは、前回のプログラムを以下にコピーしておきます。"
   ]
  },
  {
   "cell_type": "code",
   "execution_count": 15,
   "id": "discrete-recycling",
   "metadata": {},
   "outputs": [],
   "source": [
    "# 必要なライブラリの設定\n",
    "import numpy as np\n",
    "import matplotlib.pyplot as plt\n",
    "from PIL import Image\n",
    "import os\n",
    "import glob\n",
    "\n",
    "# 初期状態の設定\n",
    "def initial_state(x_min, x_max, dx):\n",
    "    x = np.arange(x_min, x_max, dx)     # 1次元計算格子\n",
    "\n",
    "    # 初期分布uと輸送速度c\n",
    "    u = np.zeros_like(x)\n",
    "    u[int(2/dx):int(5/dx)] = 1\n",
    "    \n",
    "    return x, u\n",
    "\n",
    "# グラフのプロットの設定\n",
    "def plot(x, u, i, dir_):\n",
    "    ''' シミュレーション結果をプロットし画像を保存する '''\n",
    "    # フォントの種類とサイズを設定する。\n",
    "    plt.rcParams['font.size'] = 16\n",
    "    #plt.rcParams['font.family'] = 'sans-serif'\n",
    "    #plt.rcParams['font.sans-serif'] = ['MS Gothic']\n",
    "\n",
    "    # 目盛を内側にする。\n",
    "    plt.rcParams['xtick.direction'] = 'in'\n",
    "    plt.rcParams['ytick.direction'] = 'in'\n",
    "\n",
    "    # グラフの上下左右に目盛線を付ける。\n",
    "    fig = plt.figure()\n",
    "\n",
    "    ax1 = fig.add_subplot(111)\n",
    "    ax1.yaxis.set_ticks_position('both')\n",
    "    ax1.xaxis.set_ticks_position('both')\n",
    "\n",
    "    # 軸のラベルを設定する。\n",
    "    ax1.set_xlabel('x')\n",
    "    ax1.set_ylabel('u')\n",
    "\n",
    "    # スケールの設定をする。\n",
    "    ax1.set_xlim(np.min(x), np.max(x)-1)\n",
    "    ax1.set_ylim(-0.2, 1.2)\n",
    "\n",
    "    # プロットを行う。\n",
    "    ax1.plot(x, u, label='Result', lw=1, color='red')\n",
    "\n",
    "    # レイアウト設定\n",
    "    fig.tight_layout()\n",
    "\n",
    "    # 画像を保存する。\n",
    "    # dirフォルダが無い時に新規作成\n",
    "    save_dir = dir_\n",
    "    if os.path.exists(save_dir):\n",
    "        pass\n",
    "    else:\n",
    "        os.mkdir(save_dir)\n",
    "\n",
    "    # 画像保存パスを準備\n",
    "    path = os.path.join(*[save_dir, str(\"{:05}\".format(i)) + '.png'])\n",
    "\n",
    "    # 画像を保存する\n",
    "    plt.savefig(path)\n",
    "\n",
    "    # グラフを表示する。\n",
    "    #plt.show()\n",
    "    plt.close()\n",
    "    return\n",
    "\n",
    "def create_gif(in_dir, out_filename):\n",
    "    ''' imgフォルダの複数画像からGIF画像を作る '''\n",
    "    path_list = []\n",
    "    path_list = sorted(glob.glob(os.path.join(*[in_dir, '*'])))  # ファイルパスをソートしてリストする\n",
    "    imgs = []                                                    # 画像をappendするための空配列を定義\n",
    "\n",
    "    # ファイルのフルパスからファイル名と拡張子を抽出\n",
    "    for i in range(len(path_list)):\n",
    "        img = Image.open(path_list[i])                           # 画像ファイルを1つずつ開く\n",
    "        imgs.append(img)                                         # 画像をappendで配列に格納していく\n",
    "\n",
    "    # appendした画像配列をGIFにする。durationで持続時間、loopでループ数を指定可能。\n",
    "    imgs[0].save(out_filename,\n",
    "                 save_all=True, append_images=imgs[1:], optimize=False, duration=20, loop=0)\n",
    "    return"
   ]
  },
  {
   "cell_type": "markdown",
   "id": "introductory-sleep",
   "metadata": {},
   "source": [
    "そしてメインのプログラムは以下とします。\n",
    "\n",
    "```python\n",
    "if __name__ == '__main__':\n",
    "    ''' 条件設定を行いシミュレーションを実行、流れのGIF画像を作成する '''\n",
    "    # 時間項の条件\n",
    "    dt = 0.1\n",
    "\n",
    "    # 空間項の条件\n",
    "    dx = 0.1\n",
    "    x_min = 0\n",
    "    x_max = 10\n",
    "    \n",
    "    c = 1\n",
    "    # クーラン数の確認\n",
    "    co= c * dt / dx\n",
    "\n",
    "    print(f'クーラン数 = {co}')\n",
    "\n",
    "    x, u = initial_state(x_min, x_max, dx) #初期状態\n",
    "    sol_1d_advection_upwind(x=x, u=u, dt=dt, dx=dx, c=c, step=40, schems='upwind_co1.0') # シミュレーションの実行\n",
    "```\n",
    "最後の行の関数の呼び出しを以下どれを使うかによって数値解法を切り替えることができます。\n",
    "\n",
    "- sol_1d_advection_upwind　後退差分\n",
    "- sol_1d_advection_forwardDiff  前進差分\n",
    "- sol_1d_advection_FTCS  中心差分"
   ]
  },
  {
   "cell_type": "markdown",
   "id": "varying-helping",
   "metadata": {},
   "source": [
    "# Lax-Wendroff法(クーラン数0.5)"
   ]
  },
  {
   "cell_type": "markdown",
   "id": "adaptive-insulin",
   "metadata": {},
   "source": [
    "続いてLax-Wendroff法についてプログラムを作りましょう。\n",
    "\n",
    "Lax-Wendroff法は時間に対して2次精度、空間に対しても2次精度のスキームです。\n",
    "\n",
    "時間に対してテーラー展開すると、\n",
    "\n",
    "\\begin{align*}\n",
    "u^{n+1}_{j}=u^{n}_{j}-c\\frac{\\partial u}{\\partial x}\\Delta t+\\frac{1}{2}c^2\\frac{\\partial^2 u}{\\partial x^2}\\Delta t^2\n",
    "\\end{align*}\n",
    "中心差分との違いは時間の2次精度という点です。\n",
    "\n",
    "空間ラベルiの微分$\\big(\\frac{\\partial u}{\\partial x}\\big)_{j}\\simeq \\frac{u_{j+1}-u_{j-1}}{2\\Delta x}$とすることです。\n",
    "\n",
    "さらに時間の2次の項もあるため、空間微分の$\\big(\\frac{\\partial^2 u}{\\partial x^2}\\big)_{j}\\simeq \\frac{u_{j+1}-2u_{j}u_{j-1}}{2\\Delta x^2}$が必要になります。"
   ]
  },
  {
   "cell_type": "markdown",
   "id": "plastic-matrix",
   "metadata": {},
   "source": [
    "ゆえにLax-Wendroff法の移流方程式の差分は以下のようになります。\n",
    "\n",
    "\\begin{align*}\n",
    "u^{n+1}_{j}=u^{n}_{j}-\\frac{c\\Delta t}{\\Delta x}\\frac{u^{n}_{j+1}-u^{n}_{j-1}}{2}+\\frac{1}{2}c^2\\Delta t^2\\frac{u_{j+1}-2u_{j}+u_{j-1}}{\\Delta x^2}\n",
    "\\end{align*}\n",
    "を解いています。\n",
    "\n",
    "前進差分のプログラム同様、Lax-Wendroff法は関数名sol_1d_advection_LaxWendroffという名前にし、移流方程式の差分は以下に変更します。\n",
    "```python\n",
    "u[j] = un[j] - c * (dt / dx) * (un[j+1] - un[j-1])/2 + (c * (dt / dx))**2 * (un[j+1] -2*un[j] + un[j-1])/2\n",
    "```"
   ]
  },
  {
   "cell_type": "code",
   "execution_count": 16,
   "id": "collect-outreach",
   "metadata": {},
   "outputs": [],
   "source": [
    "# 移流方程式の差分（陽解法、Lax-Wendrof法）\n",
    "def sol_1d_advection_LaxWendroff(x, u, dt, dx, c, step, schems):\n",
    "    dir_ = 'img'\n",
    "    ''' 輸送速度が正の1次元移流方程式を数値計算する '''\n",
    "    for i in range(step):\n",
    "        if i % 10 == 0:\n",
    "            print('Iteration=', i)\n",
    "\n",
    "        un = u.copy()\n",
    "        for j in range(1, len(x)-1):\n",
    "            # 時間項：前進差分/空間項：Lax-Wendroff法\n",
    "            u[j] = un[j] - c * (dt / dx) * (un[j+1] - un[j -1])/2 + (c * (dt / dx))**2 * (un[j+1] -2*un[j] + un[j-1])/2\n",
    "        \n",
    "        plot(x, u, i, dir_)   \n",
    "        create_gif(dir_, f'result/002_1d_advection_{schems}.gif') # gifファイルの作成"
   ]
  },
  {
   "cell_type": "markdown",
   "id": "collect-level",
   "metadata": {},
   "source": [
    "では、Lax-Wendroff法のプログラムを実行しましょう。\n",
    "\n",
    "以下のようにメインプログラムの中の移流方程式を解く関数をLax-Wendroff法に変更します。"
   ]
  },
  {
   "cell_type": "code",
   "execution_count": 17,
   "id": "prerequisite-channels",
   "metadata": {},
   "outputs": [
    {
     "name": "stdout",
     "output_type": "stream",
     "text": [
      "クーラン数 = 0.5\n",
      "Iteration= 0\n",
      "Iteration= 10\n",
      "Iteration= 20\n",
      "Iteration= 30\n"
     ]
    }
   ],
   "source": [
    "if __name__ == '__main__':\n",
    "    ''' 条件設定を行いシミュレーションを実行、流れのGIF画像を作成する '''\n",
    "    # 時間項の条件\n",
    "    dt = 0.1\n",
    "\n",
    "    # 空間項の条件\n",
    "    dx = 0.1\n",
    "    x_min = 0\n",
    "    x_max = 10\n",
    "    \n",
    "    c = 0.5\n",
    "    # クーラン数の確認\n",
    "    co= c * dt / dx\n",
    "\n",
    "    print(f'クーラン数 = {co}')\n",
    "\n",
    "    x, u = initial_state(x_min, x_max, dx) #初期状態\n",
    "    sol_1d_advection_LaxWendroff(x=x, u=u, dt=dt, dx=dx, c=c, step=40, schems=\"LaxWendrof_co0.5\") # シミュレーションの実行"
   ]
  },
  {
   "cell_type": "markdown",
   "id": "centered-boards",
   "metadata": {},
   "source": [
    "アニメーションの結果は「result/002_1d_advection_LaxWendrof_co0.5.gif」でご確認ください。\n",
    "\n",
    "Lax-Wendroff法は空間微分の離散化に対しては2次精度であり、空間微分だけを見ると中心差分と同じ精度でありますが、中心差分よりは安定であることがわかります。\n",
    "\n",
    "もう一度Lax-Wendroff法の離散化を確認すると、最後の項はいわゆる拡散方程式に出てくる2階微分です。\n",
    "\\begin{align*}\n",
    "u^{n+1}_{j}=u^{n}_{j}-\\frac{c\\Delta t}{\\Delta x}\\frac{u^{n}_{j+1}-u^{n}_{j-1}}{2}+\\frac{1}{2}c^2\\frac{u_{j+1}-2u_{j}+u_{j-1}}{\\Delta x^2}\n",
    "\\end{align*}\n",
    "\n",
    "つまり、Lax-Wendroff法は中心差分の不安定な離散化手法に安定化させるための拡散項が加わっているので、中心差分のような解の振動を抑えて安定する方向にはたらいてくれたと言えます。"
   ]
  },
  {
   "cell_type": "markdown",
   "id": "detected-chocolate",
   "metadata": {},
   "source": [
    "# 2次精度風上差分(クーラン数0.5)"
   ]
  },
  {
   "cell_type": "markdown",
   "id": "traditional-expense",
   "metadata": {},
   "source": [
    "2次精度風上差分とは、jでの微分$\\big(\\frac{\\partial u}{\\partial x}\\big)_{j}$を、風上側のjとj-1で表現する離散化手法です。\n",
    "\n",
    "空間微分は$\\big(\\frac{\\partial u}{\\partial x}\\big)_{j}\\simeq \\frac{3u_{j}-4u_{j-1}+u_{j-2}}{2\\Delta x}$となります。\n",
    "\n",
    "ゆえに、移流方程式を時間に対して1次精度の陽解法、空間に対して2次精度風上差分で離散化すると、\n",
    "\n",
    "\\begin{align*}\n",
    "u^{n+1}_{j}=u^{n}_{j}-\\frac{c\\Delta t}{\\Delta x}\\frac{3u^{n}_{j}-4u^{n}_{j}+u^{n}_{j-2}}{2}\n",
    "\\end{align*}\n"
   ]
  },
  {
   "cell_type": "markdown",
   "id": "marine-tractor",
   "metadata": {},
   "source": [
    "前進差分のプログラム同様、2次精度風上差分は関数名sol_1d_advection_upwind2という名前にし、移流方程式の差分は以下に変更します。\n",
    "\n",
    "```python\n",
    "u[j] = un[j] - c * (dt / dx) *  (3*un[j] -4*un[j-1] + un[j-2])/2\n",
    "```"
   ]
  },
  {
   "cell_type": "code",
   "execution_count": 18,
   "id": "inclusive-essex",
   "metadata": {},
   "outputs": [],
   "source": [
    "# 移流方程式の差分（陽解法、2次精度風上差分）\n",
    "def sol_1d_advection_upwind2(x, u, dt, dx, c, step, schems):\n",
    "    dir_ = 'img'\n",
    "    ''' 輸送速度が正の1次元移流方程式を数値計算する '''\n",
    "    for i in range(step):\n",
    "        if i % 10 == 0:\n",
    "            print('Iteration=', i)\n",
    "\n",
    "        un = u.copy()\n",
    "        for j in range(1, len(x)-1):\n",
    "            # 時間項：前進差分/空間項：2次精度風上差分\n",
    "            u[j] = un[j] - c * (dt / dx) *  (3*un[j] -4*un[j-1] + un[j-2])/2\n",
    "        \n",
    "        plot(x, u, i, dir_)   \n",
    "        create_gif(dir_, f'result/002_1d_advection_{schems}.gif') # gifファイルの作成"
   ]
  },
  {
   "cell_type": "markdown",
   "id": "dense-prime",
   "metadata": {},
   "source": [
    "では、2次精度風上差分法のプログラムを実行しましょう。\n",
    "\n",
    "以下のようにメインプログラムの中の移流方程式を解く関数を2次精度風上差分に変更します。"
   ]
  },
  {
   "cell_type": "code",
   "execution_count": 19,
   "id": "realistic-valley",
   "metadata": {},
   "outputs": [
    {
     "name": "stdout",
     "output_type": "stream",
     "text": [
      "クーラン数 = 0.5\n",
      "Iteration= 0\n",
      "Iteration= 10\n",
      "Iteration= 20\n",
      "Iteration= 30\n"
     ]
    }
   ],
   "source": [
    "if __name__ == '__main__':\n",
    "    ''' 条件設定を行いシミュレーションを実行、流れのGIF画像を作成する '''\n",
    "    # 時間項の条件\n",
    "    dt = 0.1\n",
    "\n",
    "    # 空間項の条件\n",
    "    dx = 0.1\n",
    "    x_min = 0\n",
    "    x_max = 10\n",
    "    \n",
    "    c = 0.5\n",
    "    # クーラン数の確認\n",
    "    co= c * dt / dx\n",
    "\n",
    "    print(f'クーラン数 = {co}')\n",
    "\n",
    "    x, u = initial_state(x_min, x_max, dx) #初期状態\n",
    "    sol_1d_advection_upwind2(x=x, u=u, dt=dt, dx=dx, c=c, step=40, schems=\"upwind2_co0.5\") # シミュレーションの実行"
   ]
  },
  {
   "cell_type": "markdown",
   "id": "casual-joyce",
   "metadata": {},
   "source": [
    "アニメーションの結果は「result/002_1d_advection_upwind2_co0.5.gif」でご確認ください。\n",
    "\n",
    "2次精度風上差分は不安定な結果になりました。\n",
    "1次精度の風上差分は安定だったのに（解が拡散するなどはあるが）、空間微分に対して2次の精度だと不安定な振る舞いをすることがわかります。"
   ]
  },
  {
   "cell_type": "markdown",
   "id": "productive-persian",
   "metadata": {},
   "source": [
    "※プログラムの中に```un[j-2]```がある場合は注意が必要です。\n",
    "\n",
    "forループは、\n",
    "\n",
    "```python\n",
    "for j in range(1, len(x)-1):\n",
    "    # 時間項：前進差分/空間項：2次精度風上差分\n",
    "    u[j] = un[j] - c * (dt / dx) *  (3*un[j] -4*un[j-1] + un[j-2])/2\n",
    "```\n",
    "\n",
    "となっているため、```i=1```を```un[j-2]```に代入した際には```u[-1]```となってしまいます。\n",
    "これは配列の定義としては、定義の外にアクセスをしているように思えるかもしれません。\n",
    "\n",
    "初期状態のプログラムを確認すると、numpy配列で```u```の範囲を定義しています。\n",
    "```python\n",
    "# 初期状態の設定\n",
    "def initial_state(x_min, x_max, dx):\n",
    "    x = np.arange(x_min, x_max, dx)     # 1次元計算格子\n",
    "\n",
    "    # 初期分布uと輸送速度c\n",
    "    u = np.zeros_like(x)\n",
    "    u[int(2/dx):int(5/dx)] = 1\n",
    "    \n",
    "    return x, u\n",
    "```\n",
    "\n",
    "numpy配列の場合は```u[-1]```は最後から-1番目のindexにアクセスするという意味なので、```u[xmax]```と同じ値にアくせしていることになります。\n",
    "\n",
    "以下で実際に確認してみましょう。"
   ]
  },
  {
   "cell_type": "code",
   "execution_count": 20,
   "id": "ahead-shareware",
   "metadata": {},
   "outputs": [
    {
     "data": {
      "text/plain": [
       "array([0, 1, 2, 3, 4])"
      ]
     },
     "execution_count": 20,
     "metadata": {},
     "output_type": "execute_result"
    }
   ],
   "source": [
    "test_list = np.arange(0,5,1)\n",
    "\n",
    "test_list"
   ]
  },
  {
   "cell_type": "code",
   "execution_count": 21,
   "id": "natural-sperm",
   "metadata": {},
   "outputs": [
    {
     "data": {
      "text/plain": [
       "4"
      ]
     },
     "execution_count": 21,
     "metadata": {},
     "output_type": "execute_result"
    }
   ],
   "source": [
    "test_list[-1]"
   ]
  },
  {
   "cell_type": "code",
   "execution_count": 22,
   "id": "specific-green",
   "metadata": {},
   "outputs": [
    {
     "data": {
      "text/plain": [
       "4"
      ]
     },
     "execution_count": 22,
     "metadata": {},
     "output_type": "execute_result"
    }
   ],
   "source": [
    "test_list[4] # indexは0からはじまることに注意"
   ]
  },
  {
   "cell_type": "markdown",
   "id": "latest-apple",
   "metadata": {},
   "source": [
    "以上のように```test_list[-1]```は```test_list[4]```と同じ値を返します。\n",
    "\n",
    "つまり、今のプログラムは周期境界条件を自動的に課していることになります。\n",
    "\n",
    "※周期境界とは右端と左端が同じ値になるということです。"
   ]
  },
  {
   "cell_type": "markdown",
   "id": "billion-mechanics",
   "metadata": {},
   "source": [
    "# QUICK (Quadratic Upstream Interpolation for Convection Kinematics) (クーラン数0.5)"
   ]
  },
  {
   "cell_type": "markdown",
   "id": "threaded-measurement",
   "metadata": {},
   "source": [
    "QUICKとは、jでの微分$\\big(\\frac{\\partial u}{\\partial x}\\big)_{j}=\\frac{u_{j+1/2}\\,\\,-u_{j-1/2}}{\\Delta x}$を、j+1とj-1を使ってまずはj+1/2の中間点を表現します。\n",
    "\n",
    "つまり、移流方程式の\n",
    "\n",
    "\\begin{align*}\n",
    "u^{n+1}_{j}=u^{n}_{j}-\\frac{c\\Delta t}{\\Delta x}(u^{n}_{j+1/2}-u^{n}_{j-1/2})\n",
    "\\end{align*}\n",
    "\n",
    "となり、$u^{n}_{j+1/2}$をどのように求めるかという問題になります。\n",
    "\n",
    "テーラー展開などを使って$u^{n}_{j+1/2}$は以下のように求まります。\n",
    "\n",
    "\\begin{align*}\n",
    "u^{n}_{j+1/2}=\\frac{1}{8}(3u^{n}_{j+1}+6u^{n}_{j}-u^{n}_{j-1})\n",
    "\\end{align*}\n",
    "\n",
    "上式を求める際にテーラー展開の2次の項まで残して計算をしたため、QUICKは空間に対して2次精度です。\n",
    "\n",
    "移流方程式を時間に対して1次精度の陽解法、空間に対して2次精度QUICKで離散化すると、\n",
    "\n",
    "\\begin{align*}\n",
    "u^{n+1}_{j}=u^{n}_{j}-\\frac{c\\Delta t}{\\Delta x}\\frac{3u^{n}_{j+1}+3u^{n}_{j}-7u^{n}_{j-1}+u^{n}_{j-2}}{8}\n",
    "\\end{align*}"
   ]
  },
  {
   "cell_type": "markdown",
   "id": "transparent-roommate",
   "metadata": {},
   "source": [
    "前進差分のプログラム同様、2次精度風上差分は関数名sol_1d_advection_2oderupwindという名前にし、移流方程式の差分は以下に変更します。\n",
    "\n",
    "```python\n",
    "u[j] = un[j] - c * (dt / dx) *  (3*un[j+1] +3*un[j] - 7*un[j-1] + un[j-2])/8\n",
    "```"
   ]
  },
  {
   "cell_type": "code",
   "execution_count": 23,
   "id": "quick-associate",
   "metadata": {},
   "outputs": [],
   "source": [
    "# 移流方程式の差分（陽解法、QUICK）\n",
    "def sol_1d_advection_QUICK(x, u, dt, dx, c, step, schems):\n",
    "    dir_ = 'img'\n",
    "    ''' 輸送速度が正の1次元移流方程式を数値計算する '''\n",
    "    for i in range(step):\n",
    "        if i % 10 == 0:\n",
    "            print('Iteration=', i)\n",
    "\n",
    "        un = u.copy()\n",
    "        for j in range(1, len(x)-1):\n",
    "            # 時間項：前進差分/空間項：QUICK\n",
    "            u[j] = un[j] - c * (dt / dx) *  (3*un[j+1] +3*un[j] - 7*un[j-1] + un[j-2])/8\n",
    "        \n",
    "        plot(x, u, i, dir_)   \n",
    "        create_gif(dir_, f'result/002_1d_advection_{schems}.gif') # gifファイルの作成"
   ]
  },
  {
   "cell_type": "markdown",
   "id": "experimental-knight",
   "metadata": {},
   "source": [
    "では、QUICKのプログラムを実行しましょう。\n",
    "\n",
    "以下のようにメインプログラムの中の移流方程式を解く関数をQUICKに変更します。"
   ]
  },
  {
   "cell_type": "code",
   "execution_count": 24,
   "id": "hispanic-geneva",
   "metadata": {},
   "outputs": [
    {
     "name": "stdout",
     "output_type": "stream",
     "text": [
      "クーラン数 = 0.5\n",
      "Iteration= 0\n",
      "Iteration= 10\n",
      "Iteration= 20\n",
      "Iteration= 30\n"
     ]
    }
   ],
   "source": [
    "if __name__ == '__main__':\n",
    "    ''' 条件設定を行いシミュレーションを実行、流れのGIF画像を作成する '''\n",
    "    # 時間項の条件\n",
    "    dt = 0.1\n",
    "\n",
    "    # 空間項の条件\n",
    "    dx = 0.1\n",
    "    x_min = 0\n",
    "    x_max = 10\n",
    "    \n",
    "    c = 0.5\n",
    "    # クーラン数の確認\n",
    "    co= c * dt / dx\n",
    "\n",
    "    print(f'クーラン数 = {co}')\n",
    "\n",
    "    x, u = initial_state(x_min, x_max, dx) #初期状態\n",
    "    sol_1d_advection_QUICK(x=x, u=u, dt=dt, dx=dx, c=c, step=40, schems=\"QUICK_co0.5\") # シミュレーションの実行"
   ]
  },
  {
   "cell_type": "markdown",
   "id": "chemical-shape",
   "metadata": {},
   "source": [
    "アニメーションの結果は「result/002_1d_advection_QUICK_co0.5.gif」です。\n",
    "\n",
    "QUICKは空間に対して2次精度であるが、解が振動する結果となりました。"
   ]
  },
  {
   "cell_type": "markdown",
   "id": "greatest-thailand",
   "metadata": {},
   "source": [
    "## まとめ\n",
    "\n",
    "以上をまとめると以下のことがわかりました。\n",
    "\n",
    "- 1次元移流方程式に対して安定な数値解を得ることができたのは、空間に対して1次精度である風上差分だけである\n",
    "- 2次精度は全て不安定な数値解となる\n",
    "\n",
    "今まで得た離散化手法を以下にまとめておきます。\n",
    "\n",
    "時間に対して以下のように1次の項まで展開します。\n",
    "\\begin{align*}\n",
    "u^{n+1}_{j}=u^{n}_{j}-c\\Delta t\\frac{\\partial u}{\\partial x}\n",
    "\\end{align*}\n",
    "\n",
    "ここから以下のように離散化手法の分類ができます。\n",
    "\n",
    "### 風上差分 \n",
    "\n",
    "$u^{n+1}_{j}=u^{n}_{j}- c\\Delta t \\frac{u^{n}_{j}-u^{n}_{j-1}}{\\Delta x}$ : 時間1次精度、空間1次精度\n",
    " \n",
    " ```u[j] = un[j] - c * (dt / dx) * (un[j] - un[j-1])```\n",
    "  \n",
    "### 中心差分\n",
    " \n",
    " $u^{n+1}_{j}=u^{n}_{j}- c\\Delta t \\frac{u^{n}_{j+1}-u^{n}_{j-1}}{2\\Delta x}$ : 時間1次精度、空間2次精度\n",
    " \n",
    " ```u[j] = un[j] - c * (dt / dx) * (un[j+1] - un[j-1])/2```\n",
    "  \n",
    "### Lax-Wendroff法\n",
    "\n",
    "$u^{n+1}_{j}=u^{n}_{j}-\\frac{c\\Delta t}{\\Delta x}\\frac{u^{n}_{j+1}-u^{n}_{j-1}}{2}+\\frac{1}{2}c^2\\Delta t^2\\frac{u_{j+1}-2u_{j}+u_{j-1}}{\\Delta x^2}$ : 時間2次精度、空間2次精度\n",
    "\n",
    "```u[j] = un[j] - c * (dt / dx) * (un[j+1] - un[j-1])/2 + (c * (dt / dx))**2 * (un[j+1] -2*un[j] + un[j-1])/2```\n",
    "  \n",
    "### 2次精度風上差分\n",
    "$u^{n+1}_{j}=u^{n}_{j}-\\frac{c\\Delta t}{\\Delta x}(3u^{n}_{j}-4u^{n}_{j}+u^{n}_{j-2})$ : 時間1次精度、空間2次精度\n",
    "\n",
    "```u[j] = un[j] - c * (dt / dx) *  (3*un[j] -4*un[j-1] + un[j-2])```\n",
    "\n",
    "###  QUICK\n",
    "$u^{n+1}_{j}=u^{n}_{j}-\\frac{c\\Delta t}{\\Delta x}\\frac{3u^{n}_{j+1}+3u^{n}_{j}-7u^{n}_{j-1}+u^{n}_{j-2}}{8}$ : 時間1次精度、空間2次精度\n",
    "\n",
    "```u[j] = un[j] - c * (dt / dx) *  (3*un[j+1] +3*un[j] - 7*un[j-1] + un[j-2])/8```"
   ]
  },
  {
   "cell_type": "code",
   "execution_count": null,
   "id": "changing-crazy",
   "metadata": {},
   "outputs": [],
   "source": []
  }
 ],
 "metadata": {
  "kernelspec": {
   "display_name": "Python 3 (ipykernel)",
   "language": "python",
   "name": "python3"
  },
  "language_info": {
   "codemirror_mode": {
    "name": "ipython",
    "version": 3
   },
   "file_extension": ".py",
   "mimetype": "text/x-python",
   "name": "python",
   "nbconvert_exporter": "python",
   "pygments_lexer": "ipython3",
   "version": "3.10.12"
  }
 },
 "nbformat": 4,
 "nbformat_minor": 5
}
