{
 "cells": [
  {
   "cell_type": "markdown",
   "id": "3c6f1c24-12aa-401f-aded-3ece23f7b7bb",
   "metadata": {},
   "source": []
  },
  {
   "cell_type": "markdown",
   "id": "ba0cb9ba-1b89-4ae6-bb6a-c93837bb9e54",
   "metadata": {},
   "source": [
    "# 抗力係数の計算"
   ]
  },
  {
   "cell_type": "code",
   "execution_count": 11,
   "id": "f7aee7c9-47e3-466b-b764-7068c20dc0a5",
   "metadata": {},
   "outputs": [],
   "source": [
    "import re\n",
    "import numpy as np\n",
    "import matplotlib.pyplot as plt\n",
    "import pandas as pd\n",
    "import os, shutil\n",
    "from pathlib import Path"
   ]
  },
  {
   "cell_type": "code",
   "execution_count": 12,
   "id": "c8ee6909-210a-4f71-8aa9-89f838ebc6b8",
   "metadata": {},
   "outputs": [
    {
     "data": {
      "text/plain": [
       "(PosixPath('../postProcessing/forceCoeffs1/0'),\n",
       " PosixPath('../postProcessing/forceCoeffs1/0/coefficient.dat'))"
      ]
     },
     "execution_count": 12,
     "metadata": {},
     "output_type": "execute_result"
    }
   ],
   "source": [
    "forceCoeffPath = \"forceCoeffs1/0\"\n",
    "resultDir = Path(\"../postProcessing\")/forceCoeffPath  # 計算フォルダ\n",
    "forceCoeffData = resultDir /os.listdir(resultDir)[0]\n",
    "resultDir , forceCoeffData"
   ]
  },
  {
   "cell_type": "code",
   "execution_count": 13,
   "id": "73ae5e18-74d5-438f-97b4-0d45794b1f43",
   "metadata": {},
   "outputs": [
    {
     "name": "stdout",
     "output_type": "stream",
     "text": [
      "Index(['#Time', 'Cd', 'Cs', 'Cl', 'CmRoll', 'CmPitch', 'CmYaw', 'Cd(f)',\n",
      "       'Cd(r)', 'Cs(f)', 'Cs(r)', 'Cl(f)', 'Cl(r)'],\n",
      "      dtype='object')\n"
     ]
    },
    {
     "data": {
      "text/html": [
       "<div>\n",
       "<style scoped>\n",
       "    .dataframe tbody tr th:only-of-type {\n",
       "        vertical-align: middle;\n",
       "    }\n",
       "\n",
       "    .dataframe tbody tr th {\n",
       "        vertical-align: top;\n",
       "    }\n",
       "\n",
       "    .dataframe thead th {\n",
       "        text-align: right;\n",
       "    }\n",
       "</style>\n",
       "<table border=\"1\" class=\"dataframe\">\n",
       "  <thead>\n",
       "    <tr style=\"text-align: right;\">\n",
       "      <th></th>\n",
       "      <th>#Time</th>\n",
       "      <th>Cd</th>\n",
       "      <th>Cs</th>\n",
       "      <th>Cl</th>\n",
       "      <th>CmRoll</th>\n",
       "      <th>CmPitch</th>\n",
       "      <th>CmYaw</th>\n",
       "      <th>Cd(f)</th>\n",
       "      <th>Cd(r)</th>\n",
       "      <th>Cs(f)</th>\n",
       "      <th>Cs(r)</th>\n",
       "      <th>Cl(f)</th>\n",
       "      <th>Cl(r)</th>\n",
       "    </tr>\n",
       "  </thead>\n",
       "  <tbody>\n",
       "    <tr>\n",
       "      <th>608</th>\n",
       "      <td>609</td>\n",
       "      <td>0.376653</td>\n",
       "      <td>1.278965</td>\n",
       "      <td>0.404920</td>\n",
       "      <td>-0.430893</td>\n",
       "      <td>0.409560</td>\n",
       "      <td>-1.966324</td>\n",
       "      <td>-0.242566</td>\n",
       "      <td>0.619219</td>\n",
       "      <td>-1.326841</td>\n",
       "      <td>2.605806</td>\n",
       "      <td>0.612020</td>\n",
       "      <td>-0.207100</td>\n",
       "    </tr>\n",
       "    <tr>\n",
       "      <th>609</th>\n",
       "      <td>610</td>\n",
       "      <td>0.376021</td>\n",
       "      <td>1.277773</td>\n",
       "      <td>0.404908</td>\n",
       "      <td>-0.430665</td>\n",
       "      <td>0.408833</td>\n",
       "      <td>-1.965524</td>\n",
       "      <td>-0.242655</td>\n",
       "      <td>0.618675</td>\n",
       "      <td>-1.326638</td>\n",
       "      <td>2.604410</td>\n",
       "      <td>0.611287</td>\n",
       "      <td>-0.206379</td>\n",
       "    </tr>\n",
       "    <tr>\n",
       "      <th>610</th>\n",
       "      <td>611</td>\n",
       "      <td>0.375833</td>\n",
       "      <td>1.277694</td>\n",
       "      <td>0.404915</td>\n",
       "      <td>-0.430390</td>\n",
       "      <td>0.408347</td>\n",
       "      <td>-1.964957</td>\n",
       "      <td>-0.242473</td>\n",
       "      <td>0.618306</td>\n",
       "      <td>-1.326110</td>\n",
       "      <td>2.603804</td>\n",
       "      <td>0.610804</td>\n",
       "      <td>-0.205889</td>\n",
       "    </tr>\n",
       "    <tr>\n",
       "      <th>611</th>\n",
       "      <td>612</td>\n",
       "      <td>0.375526</td>\n",
       "      <td>1.277592</td>\n",
       "      <td>0.406537</td>\n",
       "      <td>-0.429999</td>\n",
       "      <td>0.409100</td>\n",
       "      <td>-1.965260</td>\n",
       "      <td>-0.242236</td>\n",
       "      <td>0.617762</td>\n",
       "      <td>-1.326464</td>\n",
       "      <td>2.604056</td>\n",
       "      <td>0.612368</td>\n",
       "      <td>-0.205831</td>\n",
       "    </tr>\n",
       "    <tr>\n",
       "      <th>612</th>\n",
       "      <td>613</td>\n",
       "      <td>0.374736</td>\n",
       "      <td>1.276166</td>\n",
       "      <td>0.405665</td>\n",
       "      <td>-0.429625</td>\n",
       "      <td>0.408227</td>\n",
       "      <td>-1.963300</td>\n",
       "      <td>-0.242257</td>\n",
       "      <td>0.616993</td>\n",
       "      <td>-1.325217</td>\n",
       "      <td>2.601383</td>\n",
       "      <td>0.611059</td>\n",
       "      <td>-0.205394</td>\n",
       "    </tr>\n",
       "  </tbody>\n",
       "</table>\n",
       "</div>"
      ],
      "text/plain": [
       "     #Time        Cd        Cs        Cl    CmRoll   CmPitch     CmYaw  \\\n",
       "608    609  0.376653  1.278965  0.404920 -0.430893  0.409560 -1.966324   \n",
       "609    610  0.376021  1.277773  0.404908 -0.430665  0.408833 -1.965524   \n",
       "610    611  0.375833  1.277694  0.404915 -0.430390  0.408347 -1.964957   \n",
       "611    612  0.375526  1.277592  0.406537 -0.429999  0.409100 -1.965260   \n",
       "612    613  0.374736  1.276166  0.405665 -0.429625  0.408227 -1.963300   \n",
       "\n",
       "        Cd(f)     Cd(r)     Cs(f)     Cs(r)     Cl(f)     Cl(r)  \n",
       "608 -0.242566  0.619219 -1.326841  2.605806  0.612020 -0.207100  \n",
       "609 -0.242655  0.618675 -1.326638  2.604410  0.611287 -0.206379  \n",
       "610 -0.242473  0.618306 -1.326110  2.603804  0.610804 -0.205889  \n",
       "611 -0.242236  0.617762 -1.326464  2.604056  0.612368 -0.205831  \n",
       "612 -0.242257  0.616993 -1.325217  2.601383  0.611059 -0.205394  "
      ]
     },
     "execution_count": 13,
     "metadata": {},
     "output_type": "execute_result"
    }
   ],
   "source": [
    "# OpenFOAMのデータをデータフレームで取得\n",
    "df_cae = pd.read_table(forceCoeffData, index_col=False, skiprows=12)#, names=[name.replace(\" \",\"\") for name in df_cae.columns])\n",
    "df_cae.columns = [name.replace(\" \",\"\") for name in df_cae.columns]\n",
    "print(df_cae.columns)\n",
    "df_cae.tail()"
   ]
  },
  {
   "cell_type": "code",
   "execution_count": 14,
   "id": "601c56fa-1326-4134-9581-1bf2fbe231a9",
   "metadata": {},
   "outputs": [
    {
     "data": {
      "text/plain": [
       "[<matplotlib.lines.Line2D at 0x7f10ee595d60>]"
      ]
     },
     "execution_count": 14,
     "metadata": {},
     "output_type": "execute_result"
    },
    {
     "data": {
      "image/png": "[encoded data removed]",
      "text/plain": [
       "<Figure size 432x288 with 1 Axes>"
      ]
     },
     "metadata": {
      "needs_background": "light"
     },
     "output_type": "display_data"
    }
   ],
   "source": [
    "Cd_target = np.full(len(df_cae[\"#Time\"]),0.299)\n",
    "plt.xlabel(\"step\")\n",
    "plt.ylabel(\"Cd\")\n",
    "plt.ylim(0.2,0.5)\n",
    "plt.grid()\n",
    "plt.plot(df_cae[\"#Time\"],df_cae[\"Cd\"])\n",
    "plt.plot(df_cae[\"#Time\"], Cd_target)"
   ]
  },
  {
   "cell_type": "code",
   "execution_count": null,
   "id": "613f7764-afd8-4ee9-a357-b6c719d3d349",
   "metadata": {},
   "outputs": [],
   "source": []
  },
  {
   "cell_type": "code",
   "execution_count": null,
   "id": "657248cb-5781-45d0-be21-e0b498dd4a72",
   "metadata": {},
   "outputs": [],
   "source": []
  }
 ],
 "metadata": {
  "kernelspec": {
   "display_name": "Python 3 (ipykernel)",
   "language": "python",
   "name": "python3"
  },
  "language_info": {
   "codemirror_mode": {
    "name": "ipython",
    "version": 3
   },
   "file_extension": ".py",
   "mimetype": "text/x-python",
   "name": "python",
   "nbconvert_exporter": "python",
   "pygments_lexer": "ipython3",
   "version": "3.8.10"
  }
 },
 "nbformat": 4,
 "nbformat_minor": 5
}
